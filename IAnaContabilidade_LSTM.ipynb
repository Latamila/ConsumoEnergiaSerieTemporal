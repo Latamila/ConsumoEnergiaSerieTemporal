{
  "nbformat": 4,
  "nbformat_minor": 0,
  "metadata": {
    "colab": {
      "provenance": [],
      "authorship_tag": "ABX9TyM9rxhDAZEJLwVO4iXkWnns",
      "include_colab_link": true
    },
    "kernelspec": {
      "name": "python3",
      "display_name": "Python 3"
    },
    "language_info": {
      "name": "python"
    }
  },
  "cells": [
    {
      "cell_type": "markdown",
      "metadata": {
        "id": "view-in-github",
        "colab_type": "text"
      },
      "source": [
        "<a href=\"https://colab.research.google.com/github/Latamila/ConsumoEnergiaSerieTemporal/blob/main/IAnaContabilidade_LSTM.ipynb\" target=\"_parent\"><img src=\"https://colab.research.google.com/assets/colab-badge.svg\" alt=\"Open In Colab\"/></a>"
      ]
    },
    {
      "cell_type": "markdown",
      "source": [
        "A base de dados é composta por indicadores e medidas financeiras usados em relatórios contabeis.\n",
        "\n",
        "O principal objetivo é construir um modelo de IA que seja capaz de prever indicadores financeiros em uma base trimestral, oferecendo uma visão mais detalhada e prognostica do desempenho financeiro da empresa.\n",
        "\n",
        "Ao integrar a modelagem de serie temporal e análise preditiva, busca-se oferecer insights mais precisos e acionáveis para tomada de decisões estratégicas."
      ],
      "metadata": {
        "id": "BLbZD9-9n8VO"
      }
    },
    {
      "cell_type": "markdown",
      "source": [
        "#Planejamento  Financeiro:\n",
        "\n",
        "Auxilia  na  elaboração  de  orçamentos,  forecasts  e  na otimização de recursos, permitindo ajustes proativos e estratégicos baseados nas previsões do modelo.\n",
        "#Gestão  de  Riscos:\n",
        "\n",
        "Permite  a  identificação  antecipada  de  possíveis  desequilíbrios financeiros e riscos potenciais, possibilitando a implementação de medidas corretivas de maneira tempestiva.\n",
        "\n",
        "#Análise  de  Desempenho:\n",
        "\n",
        "Oferece insights sobre o desempenho financeiro passado e futuro da empresa, facilitando a avaliação de metas, resultados e a eficácia das estratégias de negócios."
      ],
      "metadata": {
        "id": "vYzBStb6op4_"
      }
    },
    {
      "cell_type": "markdown",
      "source": [
        "#Desenvolvimento  Estratégico:\n",
        "\n",
        "Fornece  informações  valiosas  para  a  formulação  de estratégias de negócios, desenvolvimento de novos produtos e expansão de mercado, baseadas em dados e análises preditivas."
      ],
      "metadata": {
        "id": "5XhtT6y3o5gC"
      }
    },
    {
      "cell_type": "code",
      "execution_count": 1,
      "metadata": {
        "id": "XLKQIUjUn7kd",
        "colab": {
          "base_uri": "https://localhost:8080/"
        },
        "outputId": "7667f2aa-3002-4409-9c96-caa6384f2ce3"
      },
      "outputs": [
        {
          "output_type": "stream",
          "name": "stdout",
          "text": [
            "Versão da Linguagem Python Usada Neste Jupyter Notebook: 3.10.12\n"
          ]
        }
      ],
      "source": [
        "# Versão da Linguagem Python\n",
        "from platform import python_version\n",
        "print('Versão da Linguagem Python Usada Neste Jupyter Notebook:', python_version())"
      ]
    },
    {
      "cell_type": "code",
      "source": [
        "# Para atualizar um pacote, execute o comando abaixo no terminal ou prompt de comando:\n",
        "# pip install -U nome_pacote\n",
        "\n",
        "# Para instalar a versão exata de um pacote, execute o comando abaixo no terminal ou prompt de comando:\n",
        "# !pip install nome_pacote==versão_desejada\n",
        "\n",
        "# Depois de instalar ou atualizar o pacote, reinicie o jupyter notebook.\n",
        "\n",
        "# Instala o pacote watermark.\n",
        "# Esse pacote é usado para gravar as versões de outros pacotes usados neste jupyter notebook.\n",
        "!pip install -q -U watermark"
      ],
      "metadata": {
        "colab": {
          "base_uri": "https://localhost:8080/"
        },
        "id": "wZiZNa9psH0u",
        "outputId": "e1011c0d-ff92-4661-d22e-4ec5e6596b5d"
      },
      "execution_count": 2,
      "outputs": [
        {
          "output_type": "stream",
          "name": "stdout",
          "text": [
            "\u001b[?25l     \u001b[90m━━━━━━━━━━━━━━━━━━━━━━━━━━━━━━━━━━━━━━━━\u001b[0m \u001b[32m0.0/1.6 MB\u001b[0m \u001b[31m?\u001b[0m eta \u001b[36m-:--:--\u001b[0m\r\u001b[2K     \u001b[91m━━\u001b[0m\u001b[90m╺\u001b[0m\u001b[90m━━━━━━━━━━━━━━━━━━━━━━━━━━━━━━━━━━━━━\u001b[0m \u001b[32m0.1/1.6 MB\u001b[0m \u001b[31m2.8 MB/s\u001b[0m eta \u001b[36m0:00:01\u001b[0m\r\u001b[2K     \u001b[91m━━━━━━━━━━\u001b[0m\u001b[90m╺\u001b[0m\u001b[90m━━━━━━━━━━━━━━━━━━━━━━━━━━━━━\u001b[0m \u001b[32m0.4/1.6 MB\u001b[0m \u001b[31m6.0 MB/s\u001b[0m eta \u001b[36m0:00:01\u001b[0m\r\u001b[2K     \u001b[91m━━━━━━━━━━━━━━━━━━━\u001b[0m\u001b[90m╺\u001b[0m\u001b[90m━━━━━━━━━━━━━━━━━━━━\u001b[0m \u001b[32m0.8/1.6 MB\u001b[0m \u001b[31m7.3 MB/s\u001b[0m eta \u001b[36m0:00:01\u001b[0m\r\u001b[2K     \u001b[91m━━━━━━━━━━━━━━━━━━━━━━━━━━━━━\u001b[0m\u001b[90m╺\u001b[0m\u001b[90m━━━━━━━━━━\u001b[0m \u001b[32m1.1/1.6 MB\u001b[0m \u001b[31m8.3 MB/s\u001b[0m eta \u001b[36m0:00:01\u001b[0m\r\u001b[2K     \u001b[91m━━━━━━━━━━━━━━━━━━━━━━━━━━━━━━━━━━━━━━━\u001b[0m\u001b[91m╸\u001b[0m \u001b[32m1.6/1.6 MB\u001b[0m \u001b[31m9.1 MB/s\u001b[0m eta \u001b[36m0:00:01\u001b[0m\r\u001b[2K     \u001b[90m━━━━━━━━━━━━━━━━━━━━━━━━━━━━━━━━━━━━━━━━\u001b[0m \u001b[32m1.6/1.6 MB\u001b[0m \u001b[31m8.3 MB/s\u001b[0m eta \u001b[36m0:00:00\u001b[0m\n",
            "\u001b[?25h"
          ]
        }
      ]
    },
    {
      "cell_type": "code",
      "source": [
        "import os\n",
        "os.environ['TF_CPP_MIN_LOG_LEVEL'] = '3'"
      ],
      "metadata": {
        "id": "q9fs10ZXsXUk"
      },
      "execution_count": 3,
      "outputs": []
    },
    {
      "cell_type": "code",
      "source": [
        "# Imports\n",
        "import pandas as pd\n",
        "import numpy as np\n",
        "import sklearn\n",
        "import tensorflow\n",
        "import matplotlib.pyplot as plt\n",
        "from tensorflow.keras.models import Sequential\n",
        "from tensorflow.keras.layers import LSTM, Dense\n",
        "from sklearn.preprocessing import StandardScaler\n",
        "from sklearn.metrics import mean_squared_error"
      ],
      "metadata": {
        "id": "1mMvwNBasbHm"
      },
      "execution_count": 4,
      "outputs": []
    },
    {
      "cell_type": "code",
      "source": [
        "# Versões dos pacotes usados neste jupyter notebook\n",
        "%reload_ext watermark\n",
        "%watermark -a \"Data Science Academy\" --iversions"
      ],
      "metadata": {
        "colab": {
          "base_uri": "https://localhost:8080/"
        },
        "id": "3Lw3etjGsdoJ",
        "outputId": "d200aadf-abf8-43f3-9a0a-fb8980fa5a2b"
      },
      "execution_count": 5,
      "outputs": [
        {
          "output_type": "stream",
          "name": "stdout",
          "text": [
            "Author: Data Science Academy\n",
            "\n",
            "pandas    : 1.5.3\n",
            "sklearn   : 1.2.2\n",
            "numpy     : 1.23.5\n",
            "tensorflow: 2.15.0\n",
            "matplotlib: 3.7.1\n",
            "\n"
          ]
        }
      ]
    },
    {
      "cell_type": "code",
      "source": [
        "from google.colab import files\n",
        "uploaded = files.upload()"
      ],
      "metadata": {
        "colab": {
          "base_uri": "https://localhost:8080/",
          "height": 73
        },
        "id": "Qe80QdbosqX8",
        "outputId": "27937046-de4a-46e9-8809-ad229bcd484d"
      },
      "execution_count": 6,
      "outputs": [
        {
          "output_type": "display_data",
          "data": {
            "text/plain": [
              "<IPython.core.display.HTML object>"
            ],
            "text/html": [
              "\n",
              "     <input type=\"file\" id=\"files-e14df787-139c-47ad-b8d3-13d530b4dc0d\" name=\"files[]\" multiple disabled\n",
              "        style=\"border:none\" />\n",
              "     <output id=\"result-e14df787-139c-47ad-b8d3-13d530b4dc0d\">\n",
              "      Upload widget is only available when the cell has been executed in the\n",
              "      current browser session. Please rerun this cell to enable.\n",
              "      </output>\n",
              "      <script>// Copyright 2017 Google LLC\n",
              "//\n",
              "// Licensed under the Apache License, Version 2.0 (the \"License\");\n",
              "// you may not use this file except in compliance with the License.\n",
              "// You may obtain a copy of the License at\n",
              "//\n",
              "//      http://www.apache.org/licenses/LICENSE-2.0\n",
              "//\n",
              "// Unless required by applicable law or agreed to in writing, software\n",
              "// distributed under the License is distributed on an \"AS IS\" BASIS,\n",
              "// WITHOUT WARRANTIES OR CONDITIONS OF ANY KIND, either express or implied.\n",
              "// See the License for the specific language governing permissions and\n",
              "// limitations under the License.\n",
              "\n",
              "/**\n",
              " * @fileoverview Helpers for google.colab Python module.\n",
              " */\n",
              "(function(scope) {\n",
              "function span(text, styleAttributes = {}) {\n",
              "  const element = document.createElement('span');\n",
              "  element.textContent = text;\n",
              "  for (const key of Object.keys(styleAttributes)) {\n",
              "    element.style[key] = styleAttributes[key];\n",
              "  }\n",
              "  return element;\n",
              "}\n",
              "\n",
              "// Max number of bytes which will be uploaded at a time.\n",
              "const MAX_PAYLOAD_SIZE = 100 * 1024;\n",
              "\n",
              "function _uploadFiles(inputId, outputId) {\n",
              "  const steps = uploadFilesStep(inputId, outputId);\n",
              "  const outputElement = document.getElementById(outputId);\n",
              "  // Cache steps on the outputElement to make it available for the next call\n",
              "  // to uploadFilesContinue from Python.\n",
              "  outputElement.steps = steps;\n",
              "\n",
              "  return _uploadFilesContinue(outputId);\n",
              "}\n",
              "\n",
              "// This is roughly an async generator (not supported in the browser yet),\n",
              "// where there are multiple asynchronous steps and the Python side is going\n",
              "// to poll for completion of each step.\n",
              "// This uses a Promise to block the python side on completion of each step,\n",
              "// then passes the result of the previous step as the input to the next step.\n",
              "function _uploadFilesContinue(outputId) {\n",
              "  const outputElement = document.getElementById(outputId);\n",
              "  const steps = outputElement.steps;\n",
              "\n",
              "  const next = steps.next(outputElement.lastPromiseValue);\n",
              "  return Promise.resolve(next.value.promise).then((value) => {\n",
              "    // Cache the last promise value to make it available to the next\n",
              "    // step of the generator.\n",
              "    outputElement.lastPromiseValue = value;\n",
              "    return next.value.response;\n",
              "  });\n",
              "}\n",
              "\n",
              "/**\n",
              " * Generator function which is called between each async step of the upload\n",
              " * process.\n",
              " * @param {string} inputId Element ID of the input file picker element.\n",
              " * @param {string} outputId Element ID of the output display.\n",
              " * @return {!Iterable<!Object>} Iterable of next steps.\n",
              " */\n",
              "function* uploadFilesStep(inputId, outputId) {\n",
              "  const inputElement = document.getElementById(inputId);\n",
              "  inputElement.disabled = false;\n",
              "\n",
              "  const outputElement = document.getElementById(outputId);\n",
              "  outputElement.innerHTML = '';\n",
              "\n",
              "  const pickedPromise = new Promise((resolve) => {\n",
              "    inputElement.addEventListener('change', (e) => {\n",
              "      resolve(e.target.files);\n",
              "    });\n",
              "  });\n",
              "\n",
              "  const cancel = document.createElement('button');\n",
              "  inputElement.parentElement.appendChild(cancel);\n",
              "  cancel.textContent = 'Cancel upload';\n",
              "  const cancelPromise = new Promise((resolve) => {\n",
              "    cancel.onclick = () => {\n",
              "      resolve(null);\n",
              "    };\n",
              "  });\n",
              "\n",
              "  // Wait for the user to pick the files.\n",
              "  const files = yield {\n",
              "    promise: Promise.race([pickedPromise, cancelPromise]),\n",
              "    response: {\n",
              "      action: 'starting',\n",
              "    }\n",
              "  };\n",
              "\n",
              "  cancel.remove();\n",
              "\n",
              "  // Disable the input element since further picks are not allowed.\n",
              "  inputElement.disabled = true;\n",
              "\n",
              "  if (!files) {\n",
              "    return {\n",
              "      response: {\n",
              "        action: 'complete',\n",
              "      }\n",
              "    };\n",
              "  }\n",
              "\n",
              "  for (const file of files) {\n",
              "    const li = document.createElement('li');\n",
              "    li.append(span(file.name, {fontWeight: 'bold'}));\n",
              "    li.append(span(\n",
              "        `(${file.type || 'n/a'}) - ${file.size} bytes, ` +\n",
              "        `last modified: ${\n",
              "            file.lastModifiedDate ? file.lastModifiedDate.toLocaleDateString() :\n",
              "                                    'n/a'} - `));\n",
              "    const percent = span('0% done');\n",
              "    li.appendChild(percent);\n",
              "\n",
              "    outputElement.appendChild(li);\n",
              "\n",
              "    const fileDataPromise = new Promise((resolve) => {\n",
              "      const reader = new FileReader();\n",
              "      reader.onload = (e) => {\n",
              "        resolve(e.target.result);\n",
              "      };\n",
              "      reader.readAsArrayBuffer(file);\n",
              "    });\n",
              "    // Wait for the data to be ready.\n",
              "    let fileData = yield {\n",
              "      promise: fileDataPromise,\n",
              "      response: {\n",
              "        action: 'continue',\n",
              "      }\n",
              "    };\n",
              "\n",
              "    // Use a chunked sending to avoid message size limits. See b/62115660.\n",
              "    let position = 0;\n",
              "    do {\n",
              "      const length = Math.min(fileData.byteLength - position, MAX_PAYLOAD_SIZE);\n",
              "      const chunk = new Uint8Array(fileData, position, length);\n",
              "      position += length;\n",
              "\n",
              "      const base64 = btoa(String.fromCharCode.apply(null, chunk));\n",
              "      yield {\n",
              "        response: {\n",
              "          action: 'append',\n",
              "          file: file.name,\n",
              "          data: base64,\n",
              "        },\n",
              "      };\n",
              "\n",
              "      let percentDone = fileData.byteLength === 0 ?\n",
              "          100 :\n",
              "          Math.round((position / fileData.byteLength) * 100);\n",
              "      percent.textContent = `${percentDone}% done`;\n",
              "\n",
              "    } while (position < fileData.byteLength);\n",
              "  }\n",
              "\n",
              "  // All done.\n",
              "  yield {\n",
              "    response: {\n",
              "      action: 'complete',\n",
              "    }\n",
              "  };\n",
              "}\n",
              "\n",
              "scope.google = scope.google || {};\n",
              "scope.google.colab = scope.google.colab || {};\n",
              "scope.google.colab._files = {\n",
              "  _uploadFiles,\n",
              "  _uploadFilesContinue,\n",
              "};\n",
              "})(self);\n",
              "</script> "
            ]
          },
          "metadata": {}
        },
        {
          "output_type": "stream",
          "name": "stdout",
          "text": [
            "Saving dataset.csv to dataset.csv\n"
          ]
        }
      ]
    },
    {
      "cell_type": "code",
      "source": [
        "# Carrega o dataset\n",
        "df_dsa = pd.read_csv('dataset.csv')"
      ],
      "metadata": {
        "id": "0y301sX6shd-"
      },
      "execution_count": 7,
      "outputs": []
    },
    {
      "cell_type": "code",
      "source": [
        "df_dsa.shape"
      ],
      "metadata": {
        "colab": {
          "base_uri": "https://localhost:8080/"
        },
        "id": "SZ134RcMsnul",
        "outputId": "8959b9a7-ea61-418d-b1c2-ec1f4554542d"
      },
      "execution_count": 8,
      "outputs": [
        {
          "output_type": "execute_result",
          "data": {
            "text/plain": [
              "(63, 8)"
            ]
          },
          "metadata": {},
          "execution_count": 8
        }
      ]
    },
    {
      "cell_type": "code",
      "source": [
        "df_dsa.head()"
      ],
      "metadata": {
        "colab": {
          "base_uri": "https://localhost:8080/",
          "height": 313
        },
        "id": "tYYGUPX4s4EO",
        "outputId": "1c926740-46e0-4506-e244-8167d4af32f6"
      },
      "execution_count": 9,
      "outputs": [
        {
          "output_type": "execute_result",
          "data": {
            "text/plain": [
              "     meses  receita_total_ops  custo_func  depreciacao  outras_despesas  \\\n",
              "0  2023-06            1388.12       92.33       153.50           284.64   \n",
              "1  2023-03            1383.82       86.93       152.50           304.13   \n",
              "2  2022-12            1378.24       70.64       152.10           909.83   \n",
              "3  2022-09            1220.58       59.75       154.74          1339.39   \n",
              "4  2022-06            1254.51       77.38       153.64          1564.59   \n",
              "\n",
              "   outras_receitas   juros  lucro_ou_prejuizo_liquido_do_periodo  \n",
              "0          1528.18  784.27                                194.15  \n",
              "1          1458.58  744.37                                191.85  \n",
              "2           428.06  650.46                                 11.40  \n",
              "3           514.67  632.22                               -298.18  \n",
              "4           597.48  653.34                               -384.50  "
            ],
            "text/html": [
              "\n",
              "  <div id=\"df-f80f8ff5-79da-44b7-8b46-24a2f13cae9b\" class=\"colab-df-container\">\n",
              "    <div>\n",
              "<style scoped>\n",
              "    .dataframe tbody tr th:only-of-type {\n",
              "        vertical-align: middle;\n",
              "    }\n",
              "\n",
              "    .dataframe tbody tr th {\n",
              "        vertical-align: top;\n",
              "    }\n",
              "\n",
              "    .dataframe thead th {\n",
              "        text-align: right;\n",
              "    }\n",
              "</style>\n",
              "<table border=\"1\" class=\"dataframe\">\n",
              "  <thead>\n",
              "    <tr style=\"text-align: right;\">\n",
              "      <th></th>\n",
              "      <th>meses</th>\n",
              "      <th>receita_total_ops</th>\n",
              "      <th>custo_func</th>\n",
              "      <th>depreciacao</th>\n",
              "      <th>outras_despesas</th>\n",
              "      <th>outras_receitas</th>\n",
              "      <th>juros</th>\n",
              "      <th>lucro_ou_prejuizo_liquido_do_periodo</th>\n",
              "    </tr>\n",
              "  </thead>\n",
              "  <tbody>\n",
              "    <tr>\n",
              "      <th>0</th>\n",
              "      <td>2023-06</td>\n",
              "      <td>1388.12</td>\n",
              "      <td>92.33</td>\n",
              "      <td>153.50</td>\n",
              "      <td>284.64</td>\n",
              "      <td>1528.18</td>\n",
              "      <td>784.27</td>\n",
              "      <td>194.15</td>\n",
              "    </tr>\n",
              "    <tr>\n",
              "      <th>1</th>\n",
              "      <td>2023-03</td>\n",
              "      <td>1383.82</td>\n",
              "      <td>86.93</td>\n",
              "      <td>152.50</td>\n",
              "      <td>304.13</td>\n",
              "      <td>1458.58</td>\n",
              "      <td>744.37</td>\n",
              "      <td>191.85</td>\n",
              "    </tr>\n",
              "    <tr>\n",
              "      <th>2</th>\n",
              "      <td>2022-12</td>\n",
              "      <td>1378.24</td>\n",
              "      <td>70.64</td>\n",
              "      <td>152.10</td>\n",
              "      <td>909.83</td>\n",
              "      <td>428.06</td>\n",
              "      <td>650.46</td>\n",
              "      <td>11.40</td>\n",
              "    </tr>\n",
              "    <tr>\n",
              "      <th>3</th>\n",
              "      <td>2022-09</td>\n",
              "      <td>1220.58</td>\n",
              "      <td>59.75</td>\n",
              "      <td>154.74</td>\n",
              "      <td>1339.39</td>\n",
              "      <td>514.67</td>\n",
              "      <td>632.22</td>\n",
              "      <td>-298.18</td>\n",
              "    </tr>\n",
              "    <tr>\n",
              "      <th>4</th>\n",
              "      <td>2022-06</td>\n",
              "      <td>1254.51</td>\n",
              "      <td>77.38</td>\n",
              "      <td>153.64</td>\n",
              "      <td>1564.59</td>\n",
              "      <td>597.48</td>\n",
              "      <td>653.34</td>\n",
              "      <td>-384.50</td>\n",
              "    </tr>\n",
              "  </tbody>\n",
              "</table>\n",
              "</div>\n",
              "    <div class=\"colab-df-buttons\">\n",
              "\n",
              "  <div class=\"colab-df-container\">\n",
              "    <button class=\"colab-df-convert\" onclick=\"convertToInteractive('df-f80f8ff5-79da-44b7-8b46-24a2f13cae9b')\"\n",
              "            title=\"Convert this dataframe to an interactive table.\"\n",
              "            style=\"display:none;\">\n",
              "\n",
              "  <svg xmlns=\"http://www.w3.org/2000/svg\" height=\"24px\" viewBox=\"0 -960 960 960\">\n",
              "    <path d=\"M120-120v-720h720v720H120Zm60-500h600v-160H180v160Zm220 220h160v-160H400v160Zm0 220h160v-160H400v160ZM180-400h160v-160H180v160Zm440 0h160v-160H620v160ZM180-180h160v-160H180v160Zm440 0h160v-160H620v160Z\"/>\n",
              "  </svg>\n",
              "    </button>\n",
              "\n",
              "  <style>\n",
              "    .colab-df-container {\n",
              "      display:flex;\n",
              "      gap: 12px;\n",
              "    }\n",
              "\n",
              "    .colab-df-convert {\n",
              "      background-color: #E8F0FE;\n",
              "      border: none;\n",
              "      border-radius: 50%;\n",
              "      cursor: pointer;\n",
              "      display: none;\n",
              "      fill: #1967D2;\n",
              "      height: 32px;\n",
              "      padding: 0 0 0 0;\n",
              "      width: 32px;\n",
              "    }\n",
              "\n",
              "    .colab-df-convert:hover {\n",
              "      background-color: #E2EBFA;\n",
              "      box-shadow: 0px 1px 2px rgba(60, 64, 67, 0.3), 0px 1px 3px 1px rgba(60, 64, 67, 0.15);\n",
              "      fill: #174EA6;\n",
              "    }\n",
              "\n",
              "    .colab-df-buttons div {\n",
              "      margin-bottom: 4px;\n",
              "    }\n",
              "\n",
              "    [theme=dark] .colab-df-convert {\n",
              "      background-color: #3B4455;\n",
              "      fill: #D2E3FC;\n",
              "    }\n",
              "\n",
              "    [theme=dark] .colab-df-convert:hover {\n",
              "      background-color: #434B5C;\n",
              "      box-shadow: 0px 1px 3px 1px rgba(0, 0, 0, 0.15);\n",
              "      filter: drop-shadow(0px 1px 2px rgba(0, 0, 0, 0.3));\n",
              "      fill: #FFFFFF;\n",
              "    }\n",
              "  </style>\n",
              "\n",
              "    <script>\n",
              "      const buttonEl =\n",
              "        document.querySelector('#df-f80f8ff5-79da-44b7-8b46-24a2f13cae9b button.colab-df-convert');\n",
              "      buttonEl.style.display =\n",
              "        google.colab.kernel.accessAllowed ? 'block' : 'none';\n",
              "\n",
              "      async function convertToInteractive(key) {\n",
              "        const element = document.querySelector('#df-f80f8ff5-79da-44b7-8b46-24a2f13cae9b');\n",
              "        const dataTable =\n",
              "          await google.colab.kernel.invokeFunction('convertToInteractive',\n",
              "                                                    [key], {});\n",
              "        if (!dataTable) return;\n",
              "\n",
              "        const docLinkHtml = 'Like what you see? Visit the ' +\n",
              "          '<a target=\"_blank\" href=https://colab.research.google.com/notebooks/data_table.ipynb>data table notebook</a>'\n",
              "          + ' to learn more about interactive tables.';\n",
              "        element.innerHTML = '';\n",
              "        dataTable['output_type'] = 'display_data';\n",
              "        await google.colab.output.renderOutput(dataTable, element);\n",
              "        const docLink = document.createElement('div');\n",
              "        docLink.innerHTML = docLinkHtml;\n",
              "        element.appendChild(docLink);\n",
              "      }\n",
              "    </script>\n",
              "  </div>\n",
              "\n",
              "\n",
              "<div id=\"df-3d1165bf-4d3b-45fc-93b3-13f7886f29af\">\n",
              "  <button class=\"colab-df-quickchart\" onclick=\"quickchart('df-3d1165bf-4d3b-45fc-93b3-13f7886f29af')\"\n",
              "            title=\"Suggest charts\"\n",
              "            style=\"display:none;\">\n",
              "\n",
              "<svg xmlns=\"http://www.w3.org/2000/svg\" height=\"24px\"viewBox=\"0 0 24 24\"\n",
              "     width=\"24px\">\n",
              "    <g>\n",
              "        <path d=\"M19 3H5c-1.1 0-2 .9-2 2v14c0 1.1.9 2 2 2h14c1.1 0 2-.9 2-2V5c0-1.1-.9-2-2-2zM9 17H7v-7h2v7zm4 0h-2V7h2v10zm4 0h-2v-4h2v4z\"/>\n",
              "    </g>\n",
              "</svg>\n",
              "  </button>\n",
              "\n",
              "<style>\n",
              "  .colab-df-quickchart {\n",
              "      --bg-color: #E8F0FE;\n",
              "      --fill-color: #1967D2;\n",
              "      --hover-bg-color: #E2EBFA;\n",
              "      --hover-fill-color: #174EA6;\n",
              "      --disabled-fill-color: #AAA;\n",
              "      --disabled-bg-color: #DDD;\n",
              "  }\n",
              "\n",
              "  [theme=dark] .colab-df-quickchart {\n",
              "      --bg-color: #3B4455;\n",
              "      --fill-color: #D2E3FC;\n",
              "      --hover-bg-color: #434B5C;\n",
              "      --hover-fill-color: #FFFFFF;\n",
              "      --disabled-bg-color: #3B4455;\n",
              "      --disabled-fill-color: #666;\n",
              "  }\n",
              "\n",
              "  .colab-df-quickchart {\n",
              "    background-color: var(--bg-color);\n",
              "    border: none;\n",
              "    border-radius: 50%;\n",
              "    cursor: pointer;\n",
              "    display: none;\n",
              "    fill: var(--fill-color);\n",
              "    height: 32px;\n",
              "    padding: 0;\n",
              "    width: 32px;\n",
              "  }\n",
              "\n",
              "  .colab-df-quickchart:hover {\n",
              "    background-color: var(--hover-bg-color);\n",
              "    box-shadow: 0 1px 2px rgba(60, 64, 67, 0.3), 0 1px 3px 1px rgba(60, 64, 67, 0.15);\n",
              "    fill: var(--button-hover-fill-color);\n",
              "  }\n",
              "\n",
              "  .colab-df-quickchart-complete:disabled,\n",
              "  .colab-df-quickchart-complete:disabled:hover {\n",
              "    background-color: var(--disabled-bg-color);\n",
              "    fill: var(--disabled-fill-color);\n",
              "    box-shadow: none;\n",
              "  }\n",
              "\n",
              "  .colab-df-spinner {\n",
              "    border: 2px solid var(--fill-color);\n",
              "    border-color: transparent;\n",
              "    border-bottom-color: var(--fill-color);\n",
              "    animation:\n",
              "      spin 1s steps(1) infinite;\n",
              "  }\n",
              "\n",
              "  @keyframes spin {\n",
              "    0% {\n",
              "      border-color: transparent;\n",
              "      border-bottom-color: var(--fill-color);\n",
              "      border-left-color: var(--fill-color);\n",
              "    }\n",
              "    20% {\n",
              "      border-color: transparent;\n",
              "      border-left-color: var(--fill-color);\n",
              "      border-top-color: var(--fill-color);\n",
              "    }\n",
              "    30% {\n",
              "      border-color: transparent;\n",
              "      border-left-color: var(--fill-color);\n",
              "      border-top-color: var(--fill-color);\n",
              "      border-right-color: var(--fill-color);\n",
              "    }\n",
              "    40% {\n",
              "      border-color: transparent;\n",
              "      border-right-color: var(--fill-color);\n",
              "      border-top-color: var(--fill-color);\n",
              "    }\n",
              "    60% {\n",
              "      border-color: transparent;\n",
              "      border-right-color: var(--fill-color);\n",
              "    }\n",
              "    80% {\n",
              "      border-color: transparent;\n",
              "      border-right-color: var(--fill-color);\n",
              "      border-bottom-color: var(--fill-color);\n",
              "    }\n",
              "    90% {\n",
              "      border-color: transparent;\n",
              "      border-bottom-color: var(--fill-color);\n",
              "    }\n",
              "  }\n",
              "</style>\n",
              "\n",
              "  <script>\n",
              "    async function quickchart(key) {\n",
              "      const quickchartButtonEl =\n",
              "        document.querySelector('#' + key + ' button');\n",
              "      quickchartButtonEl.disabled = true;  // To prevent multiple clicks.\n",
              "      quickchartButtonEl.classList.add('colab-df-spinner');\n",
              "      try {\n",
              "        const charts = await google.colab.kernel.invokeFunction(\n",
              "            'suggestCharts', [key], {});\n",
              "      } catch (error) {\n",
              "        console.error('Error during call to suggestCharts:', error);\n",
              "      }\n",
              "      quickchartButtonEl.classList.remove('colab-df-spinner');\n",
              "      quickchartButtonEl.classList.add('colab-df-quickchart-complete');\n",
              "    }\n",
              "    (() => {\n",
              "      let quickchartButtonEl =\n",
              "        document.querySelector('#df-3d1165bf-4d3b-45fc-93b3-13f7886f29af button');\n",
              "      quickchartButtonEl.style.display =\n",
              "        google.colab.kernel.accessAllowed ? 'block' : 'none';\n",
              "    })();\n",
              "  </script>\n",
              "</div>\n",
              "\n",
              "    </div>\n",
              "  </div>\n"
            ]
          },
          "metadata": {},
          "execution_count": 9
        }
      ]
    },
    {
      "cell_type": "code",
      "source": [
        "df_dsa = df_dsa.sort_values('meses')\n",
        "#organização dos dados com sort_values baseado na coluna 'meses'\n",
        "# Ordena os dados pela coluna que representa\n",
        "#o tempo (isso é importante devido ao modelo que iremos usar)"
      ],
      "metadata": {
        "id": "zJG4DLnks8l9"
      },
      "execution_count": 11,
      "outputs": []
    },
    {
      "cell_type": "code",
      "source": [
        "#resete se faz com reset_index e apaga com drop = True\n",
        "# Reset do índice (sempre que fizer qualquer alteração no dataframe)\n",
        "df_dsa = df_dsa.reset_index(drop = True)"
      ],
      "metadata": {
        "id": "m72UQBmJtMVO"
      },
      "execution_count": 13,
      "outputs": []
    },
    {
      "cell_type": "code",
      "source": [
        "df_dsa[1:8]#pega as linhas do modelo"
      ],
      "metadata": {
        "colab": {
          "base_uri": "https://localhost:8080/",
          "height": 410
        },
        "id": "nGdQIqlBIRS2",
        "outputId": "cffa4113-bd88-411e-f492-10f2f553bb16"
      },
      "execution_count": 17,
      "outputs": [
        {
          "output_type": "execute_result",
          "data": {
            "text/plain": [
              "     meses  receita_total_ops  custo_func  depreciacao  outras_despesas  \\\n",
              "1  2008-03             328.65        8.71        29.15            59.46   \n",
              "2  2008-06             253.73        8.61        31.16            45.64   \n",
              "3  2008-09             296.00        8.73        32.18            64.05   \n",
              "4  2008-12             300.89        8.91        34.75            87.28   \n",
              "5  2009-03             284.51       10.46        39.14            64.44   \n",
              "6  2009-06             306.77       11.30        35.78            75.36   \n",
              "7  2009-09             327.37       12.68        38.92            80.97   \n",
              "\n",
              "   outras_receitas  juros  lucro_ou_prejuizo_liquido_do_periodo  \n",
              "1            20.91  31.95                                 91.10  \n",
              "2            20.04  39.60                                 96.80  \n",
              "3             7.78  55.18                                112.28  \n",
              "4             2.39  49.51                                100.81  \n",
              "5            16.90 -11.35                                151.19  \n",
              "6            14.58  13.35                                170.76  \n",
              "7             9.97  20.35                                174.79  "
            ],
            "text/html": [
              "\n",
              "  <div id=\"df-b8092f11-b7c8-417f-a2e7-32d17147c3d2\" class=\"colab-df-container\">\n",
              "    <div>\n",
              "<style scoped>\n",
              "    .dataframe tbody tr th:only-of-type {\n",
              "        vertical-align: middle;\n",
              "    }\n",
              "\n",
              "    .dataframe tbody tr th {\n",
              "        vertical-align: top;\n",
              "    }\n",
              "\n",
              "    .dataframe thead th {\n",
              "        text-align: right;\n",
              "    }\n",
              "</style>\n",
              "<table border=\"1\" class=\"dataframe\">\n",
              "  <thead>\n",
              "    <tr style=\"text-align: right;\">\n",
              "      <th></th>\n",
              "      <th>meses</th>\n",
              "      <th>receita_total_ops</th>\n",
              "      <th>custo_func</th>\n",
              "      <th>depreciacao</th>\n",
              "      <th>outras_despesas</th>\n",
              "      <th>outras_receitas</th>\n",
              "      <th>juros</th>\n",
              "      <th>lucro_ou_prejuizo_liquido_do_periodo</th>\n",
              "    </tr>\n",
              "  </thead>\n",
              "  <tbody>\n",
              "    <tr>\n",
              "      <th>1</th>\n",
              "      <td>2008-03</td>\n",
              "      <td>328.65</td>\n",
              "      <td>8.71</td>\n",
              "      <td>29.15</td>\n",
              "      <td>59.46</td>\n",
              "      <td>20.91</td>\n",
              "      <td>31.95</td>\n",
              "      <td>91.10</td>\n",
              "    </tr>\n",
              "    <tr>\n",
              "      <th>2</th>\n",
              "      <td>2008-06</td>\n",
              "      <td>253.73</td>\n",
              "      <td>8.61</td>\n",
              "      <td>31.16</td>\n",
              "      <td>45.64</td>\n",
              "      <td>20.04</td>\n",
              "      <td>39.60</td>\n",
              "      <td>96.80</td>\n",
              "    </tr>\n",
              "    <tr>\n",
              "      <th>3</th>\n",
              "      <td>2008-09</td>\n",
              "      <td>296.00</td>\n",
              "      <td>8.73</td>\n",
              "      <td>32.18</td>\n",
              "      <td>64.05</td>\n",
              "      <td>7.78</td>\n",
              "      <td>55.18</td>\n",
              "      <td>112.28</td>\n",
              "    </tr>\n",
              "    <tr>\n",
              "      <th>4</th>\n",
              "      <td>2008-12</td>\n",
              "      <td>300.89</td>\n",
              "      <td>8.91</td>\n",
              "      <td>34.75</td>\n",
              "      <td>87.28</td>\n",
              "      <td>2.39</td>\n",
              "      <td>49.51</td>\n",
              "      <td>100.81</td>\n",
              "    </tr>\n",
              "    <tr>\n",
              "      <th>5</th>\n",
              "      <td>2009-03</td>\n",
              "      <td>284.51</td>\n",
              "      <td>10.46</td>\n",
              "      <td>39.14</td>\n",
              "      <td>64.44</td>\n",
              "      <td>16.90</td>\n",
              "      <td>-11.35</td>\n",
              "      <td>151.19</td>\n",
              "    </tr>\n",
              "    <tr>\n",
              "      <th>6</th>\n",
              "      <td>2009-06</td>\n",
              "      <td>306.77</td>\n",
              "      <td>11.30</td>\n",
              "      <td>35.78</td>\n",
              "      <td>75.36</td>\n",
              "      <td>14.58</td>\n",
              "      <td>13.35</td>\n",
              "      <td>170.76</td>\n",
              "    </tr>\n",
              "    <tr>\n",
              "      <th>7</th>\n",
              "      <td>2009-09</td>\n",
              "      <td>327.37</td>\n",
              "      <td>12.68</td>\n",
              "      <td>38.92</td>\n",
              "      <td>80.97</td>\n",
              "      <td>9.97</td>\n",
              "      <td>20.35</td>\n",
              "      <td>174.79</td>\n",
              "    </tr>\n",
              "  </tbody>\n",
              "</table>\n",
              "</div>\n",
              "    <div class=\"colab-df-buttons\">\n",
              "\n",
              "  <div class=\"colab-df-container\">\n",
              "    <button class=\"colab-df-convert\" onclick=\"convertToInteractive('df-b8092f11-b7c8-417f-a2e7-32d17147c3d2')\"\n",
              "            title=\"Convert this dataframe to an interactive table.\"\n",
              "            style=\"display:none;\">\n",
              "\n",
              "  <svg xmlns=\"http://www.w3.org/2000/svg\" height=\"24px\" viewBox=\"0 -960 960 960\">\n",
              "    <path d=\"M120-120v-720h720v720H120Zm60-500h600v-160H180v160Zm220 220h160v-160H400v160Zm0 220h160v-160H400v160ZM180-400h160v-160H180v160Zm440 0h160v-160H620v160ZM180-180h160v-160H180v160Zm440 0h160v-160H620v160Z\"/>\n",
              "  </svg>\n",
              "    </button>\n",
              "\n",
              "  <style>\n",
              "    .colab-df-container {\n",
              "      display:flex;\n",
              "      gap: 12px;\n",
              "    }\n",
              "\n",
              "    .colab-df-convert {\n",
              "      background-color: #E8F0FE;\n",
              "      border: none;\n",
              "      border-radius: 50%;\n",
              "      cursor: pointer;\n",
              "      display: none;\n",
              "      fill: #1967D2;\n",
              "      height: 32px;\n",
              "      padding: 0 0 0 0;\n",
              "      width: 32px;\n",
              "    }\n",
              "\n",
              "    .colab-df-convert:hover {\n",
              "      background-color: #E2EBFA;\n",
              "      box-shadow: 0px 1px 2px rgba(60, 64, 67, 0.3), 0px 1px 3px 1px rgba(60, 64, 67, 0.15);\n",
              "      fill: #174EA6;\n",
              "    }\n",
              "\n",
              "    .colab-df-buttons div {\n",
              "      margin-bottom: 4px;\n",
              "    }\n",
              "\n",
              "    [theme=dark] .colab-df-convert {\n",
              "      background-color: #3B4455;\n",
              "      fill: #D2E3FC;\n",
              "    }\n",
              "\n",
              "    [theme=dark] .colab-df-convert:hover {\n",
              "      background-color: #434B5C;\n",
              "      box-shadow: 0px 1px 3px 1px rgba(0, 0, 0, 0.15);\n",
              "      filter: drop-shadow(0px 1px 2px rgba(0, 0, 0, 0.3));\n",
              "      fill: #FFFFFF;\n",
              "    }\n",
              "  </style>\n",
              "\n",
              "    <script>\n",
              "      const buttonEl =\n",
              "        document.querySelector('#df-b8092f11-b7c8-417f-a2e7-32d17147c3d2 button.colab-df-convert');\n",
              "      buttonEl.style.display =\n",
              "        google.colab.kernel.accessAllowed ? 'block' : 'none';\n",
              "\n",
              "      async function convertToInteractive(key) {\n",
              "        const element = document.querySelector('#df-b8092f11-b7c8-417f-a2e7-32d17147c3d2');\n",
              "        const dataTable =\n",
              "          await google.colab.kernel.invokeFunction('convertToInteractive',\n",
              "                                                    [key], {});\n",
              "        if (!dataTable) return;\n",
              "\n",
              "        const docLinkHtml = 'Like what you see? Visit the ' +\n",
              "          '<a target=\"_blank\" href=https://colab.research.google.com/notebooks/data_table.ipynb>data table notebook</a>'\n",
              "          + ' to learn more about interactive tables.';\n",
              "        element.innerHTML = '';\n",
              "        dataTable['output_type'] = 'display_data';\n",
              "        await google.colab.output.renderOutput(dataTable, element);\n",
              "        const docLink = document.createElement('div');\n",
              "        docLink.innerHTML = docLinkHtml;\n",
              "        element.appendChild(docLink);\n",
              "      }\n",
              "    </script>\n",
              "  </div>\n",
              "\n",
              "\n",
              "<div id=\"df-e3f1a6f9-d198-4737-a1be-f773610685ff\">\n",
              "  <button class=\"colab-df-quickchart\" onclick=\"quickchart('df-e3f1a6f9-d198-4737-a1be-f773610685ff')\"\n",
              "            title=\"Suggest charts\"\n",
              "            style=\"display:none;\">\n",
              "\n",
              "<svg xmlns=\"http://www.w3.org/2000/svg\" height=\"24px\"viewBox=\"0 0 24 24\"\n",
              "     width=\"24px\">\n",
              "    <g>\n",
              "        <path d=\"M19 3H5c-1.1 0-2 .9-2 2v14c0 1.1.9 2 2 2h14c1.1 0 2-.9 2-2V5c0-1.1-.9-2-2-2zM9 17H7v-7h2v7zm4 0h-2V7h2v10zm4 0h-2v-4h2v4z\"/>\n",
              "    </g>\n",
              "</svg>\n",
              "  </button>\n",
              "\n",
              "<style>\n",
              "  .colab-df-quickchart {\n",
              "      --bg-color: #E8F0FE;\n",
              "      --fill-color: #1967D2;\n",
              "      --hover-bg-color: #E2EBFA;\n",
              "      --hover-fill-color: #174EA6;\n",
              "      --disabled-fill-color: #AAA;\n",
              "      --disabled-bg-color: #DDD;\n",
              "  }\n",
              "\n",
              "  [theme=dark] .colab-df-quickchart {\n",
              "      --bg-color: #3B4455;\n",
              "      --fill-color: #D2E3FC;\n",
              "      --hover-bg-color: #434B5C;\n",
              "      --hover-fill-color: #FFFFFF;\n",
              "      --disabled-bg-color: #3B4455;\n",
              "      --disabled-fill-color: #666;\n",
              "  }\n",
              "\n",
              "  .colab-df-quickchart {\n",
              "    background-color: var(--bg-color);\n",
              "    border: none;\n",
              "    border-radius: 50%;\n",
              "    cursor: pointer;\n",
              "    display: none;\n",
              "    fill: var(--fill-color);\n",
              "    height: 32px;\n",
              "    padding: 0;\n",
              "    width: 32px;\n",
              "  }\n",
              "\n",
              "  .colab-df-quickchart:hover {\n",
              "    background-color: var(--hover-bg-color);\n",
              "    box-shadow: 0 1px 2px rgba(60, 64, 67, 0.3), 0 1px 3px 1px rgba(60, 64, 67, 0.15);\n",
              "    fill: var(--button-hover-fill-color);\n",
              "  }\n",
              "\n",
              "  .colab-df-quickchart-complete:disabled,\n",
              "  .colab-df-quickchart-complete:disabled:hover {\n",
              "    background-color: var(--disabled-bg-color);\n",
              "    fill: var(--disabled-fill-color);\n",
              "    box-shadow: none;\n",
              "  }\n",
              "\n",
              "  .colab-df-spinner {\n",
              "    border: 2px solid var(--fill-color);\n",
              "    border-color: transparent;\n",
              "    border-bottom-color: var(--fill-color);\n",
              "    animation:\n",
              "      spin 1s steps(1) infinite;\n",
              "  }\n",
              "\n",
              "  @keyframes spin {\n",
              "    0% {\n",
              "      border-color: transparent;\n",
              "      border-bottom-color: var(--fill-color);\n",
              "      border-left-color: var(--fill-color);\n",
              "    }\n",
              "    20% {\n",
              "      border-color: transparent;\n",
              "      border-left-color: var(--fill-color);\n",
              "      border-top-color: var(--fill-color);\n",
              "    }\n",
              "    30% {\n",
              "      border-color: transparent;\n",
              "      border-left-color: var(--fill-color);\n",
              "      border-top-color: var(--fill-color);\n",
              "      border-right-color: var(--fill-color);\n",
              "    }\n",
              "    40% {\n",
              "      border-color: transparent;\n",
              "      border-right-color: var(--fill-color);\n",
              "      border-top-color: var(--fill-color);\n",
              "    }\n",
              "    60% {\n",
              "      border-color: transparent;\n",
              "      border-right-color: var(--fill-color);\n",
              "    }\n",
              "    80% {\n",
              "      border-color: transparent;\n",
              "      border-right-color: var(--fill-color);\n",
              "      border-bottom-color: var(--fill-color);\n",
              "    }\n",
              "    90% {\n",
              "      border-color: transparent;\n",
              "      border-bottom-color: var(--fill-color);\n",
              "    }\n",
              "  }\n",
              "</style>\n",
              "\n",
              "  <script>\n",
              "    async function quickchart(key) {\n",
              "      const quickchartButtonEl =\n",
              "        document.querySelector('#' + key + ' button');\n",
              "      quickchartButtonEl.disabled = true;  // To prevent multiple clicks.\n",
              "      quickchartButtonEl.classList.add('colab-df-spinner');\n",
              "      try {\n",
              "        const charts = await google.colab.kernel.invokeFunction(\n",
              "            'suggestCharts', [key], {});\n",
              "      } catch (error) {\n",
              "        console.error('Error during call to suggestCharts:', error);\n",
              "      }\n",
              "      quickchartButtonEl.classList.remove('colab-df-spinner');\n",
              "      quickchartButtonEl.classList.add('colab-df-quickchart-complete');\n",
              "    }\n",
              "    (() => {\n",
              "      let quickchartButtonEl =\n",
              "        document.querySelector('#df-e3f1a6f9-d198-4737-a1be-f773610685ff button');\n",
              "      quickchartButtonEl.style.display =\n",
              "        google.colab.kernel.accessAllowed ? 'block' : 'none';\n",
              "    })();\n",
              "  </script>\n",
              "</div>\n",
              "\n",
              "    </div>\n",
              "  </div>\n"
            ]
          },
          "metadata": {},
          "execution_count": 17
        }
      ]
    },
    {
      "cell_type": "code",
      "source": [
        "list(df_dsa)[1:8]\n",
        "#dessa forma retorna apenas o nome das colunas de 1 a 8"
      ],
      "metadata": {
        "colab": {
          "base_uri": "https://localhost:8080/"
        },
        "id": "silpnJp7IZ83",
        "outputId": "bf504f7c-6059-40e4-96da-ae6731798789"
      },
      "execution_count": 18,
      "outputs": [
        {
          "output_type": "execute_result",
          "data": {
            "text/plain": [
              "['receita_total_ops',\n",
              " 'custo_func',\n",
              " 'depreciacao',\n",
              " 'outras_despesas',\n",
              " 'outras_receitas',\n",
              " 'juros',\n",
              " 'lucro_ou_prejuizo_liquido_do_periodo']"
            ]
          },
          "metadata": {},
          "execution_count": 18
        }
      ]
    },
    {
      "cell_type": "code",
      "source": [
        "\n",
        "# Definindo as variáveis que serão usadas\n",
        "#para as previsões (variáveis de índice 1 a 8)\n",
        "cols = list(df_dsa)[1:8]\n",
        "#para pegar as colunas devemos fazer um objeto\n",
        "#que recebe uma lista dos nomes das colunas"
      ],
      "metadata": {
        "id": "CtpWXZKytfg2"
      },
      "execution_count": 20,
      "outputs": []
    },
    {
      "cell_type": "code",
      "source": [
        "#visualiza as colunas\n",
        "print(cols)"
      ],
      "metadata": {
        "colab": {
          "base_uri": "https://localhost:8080/"
        },
        "id": "xtd-zASNtsXm",
        "outputId": "b9eb5233-3c5f-49ae-a713-42ee3769d7ce"
      },
      "execution_count": 21,
      "outputs": [
        {
          "output_type": "stream",
          "name": "stdout",
          "text": [
            "['receita_total_ops', 'custo_func', 'depreciacao', 'outras_despesas', 'outras_receitas', 'juros', 'lucro_ou_prejuizo_liquido_do_periodo']\n"
          ]
        }
      ]
    },
    {
      "cell_type": "code",
      "source": [
        "#Vamos trocar o tipo de dados das variaveis com astype\n",
        "#referiando a variavel 'cols' para apontar para o\n",
        "#dataset df_dsa e alterar a estrutura dos dados\n",
        "\n",
        "# Converte as variáveis para o tipo float a fim de aumentar\n",
        "#a precisão dos cálculos e cria o dataframe de treino\n",
        "df_treino = df_dsa[cols].astype(float)"
      ],
      "metadata": {
        "id": "hk0DINFptvhf"
      },
      "execution_count": 23,
      "outputs": []
    },
    {
      "cell_type": "code",
      "source": [
        "df_treino.head()"
      ],
      "metadata": {
        "colab": {
          "base_uri": "https://localhost:8080/",
          "height": 226
        },
        "id": "Pp2_fLOyt9qq",
        "outputId": "606719bc-2620-4c48-a0e4-28d56f83362b"
      },
      "execution_count": 24,
      "outputs": [
        {
          "output_type": "execute_result",
          "data": {
            "text/plain": [
              "   receita_total_ops  custo_func  depreciacao  outras_despesas  \\\n",
              "0             205.35        6.22        26.89            56.44   \n",
              "1             328.65        8.71        29.15            59.46   \n",
              "2             253.73        8.61        31.16            45.64   \n",
              "3             296.00        8.73        32.18            64.05   \n",
              "4             300.89        8.91        34.75            87.28   \n",
              "\n",
              "   outras_receitas  juros  lucro_ou_prejuizo_liquido_do_periodo  \n",
              "0             4.65  30.67                                 52.44  \n",
              "1            20.91  31.95                                 91.10  \n",
              "2            20.04  39.60                                 96.80  \n",
              "3             7.78  55.18                                112.28  \n",
              "4             2.39  49.51                                100.81  "
            ],
            "text/html": [
              "\n",
              "  <div id=\"df-4f211f31-1c7a-4be2-b40e-45282686ce8a\" class=\"colab-df-container\">\n",
              "    <div>\n",
              "<style scoped>\n",
              "    .dataframe tbody tr th:only-of-type {\n",
              "        vertical-align: middle;\n",
              "    }\n",
              "\n",
              "    .dataframe tbody tr th {\n",
              "        vertical-align: top;\n",
              "    }\n",
              "\n",
              "    .dataframe thead th {\n",
              "        text-align: right;\n",
              "    }\n",
              "</style>\n",
              "<table border=\"1\" class=\"dataframe\">\n",
              "  <thead>\n",
              "    <tr style=\"text-align: right;\">\n",
              "      <th></th>\n",
              "      <th>receita_total_ops</th>\n",
              "      <th>custo_func</th>\n",
              "      <th>depreciacao</th>\n",
              "      <th>outras_despesas</th>\n",
              "      <th>outras_receitas</th>\n",
              "      <th>juros</th>\n",
              "      <th>lucro_ou_prejuizo_liquido_do_periodo</th>\n",
              "    </tr>\n",
              "  </thead>\n",
              "  <tbody>\n",
              "    <tr>\n",
              "      <th>0</th>\n",
              "      <td>205.35</td>\n",
              "      <td>6.22</td>\n",
              "      <td>26.89</td>\n",
              "      <td>56.44</td>\n",
              "      <td>4.65</td>\n",
              "      <td>30.67</td>\n",
              "      <td>52.44</td>\n",
              "    </tr>\n",
              "    <tr>\n",
              "      <th>1</th>\n",
              "      <td>328.65</td>\n",
              "      <td>8.71</td>\n",
              "      <td>29.15</td>\n",
              "      <td>59.46</td>\n",
              "      <td>20.91</td>\n",
              "      <td>31.95</td>\n",
              "      <td>91.10</td>\n",
              "    </tr>\n",
              "    <tr>\n",
              "      <th>2</th>\n",
              "      <td>253.73</td>\n",
              "      <td>8.61</td>\n",
              "      <td>31.16</td>\n",
              "      <td>45.64</td>\n",
              "      <td>20.04</td>\n",
              "      <td>39.60</td>\n",
              "      <td>96.80</td>\n",
              "    </tr>\n",
              "    <tr>\n",
              "      <th>3</th>\n",
              "      <td>296.00</td>\n",
              "      <td>8.73</td>\n",
              "      <td>32.18</td>\n",
              "      <td>64.05</td>\n",
              "      <td>7.78</td>\n",
              "      <td>55.18</td>\n",
              "      <td>112.28</td>\n",
              "    </tr>\n",
              "    <tr>\n",
              "      <th>4</th>\n",
              "      <td>300.89</td>\n",
              "      <td>8.91</td>\n",
              "      <td>34.75</td>\n",
              "      <td>87.28</td>\n",
              "      <td>2.39</td>\n",
              "      <td>49.51</td>\n",
              "      <td>100.81</td>\n",
              "    </tr>\n",
              "  </tbody>\n",
              "</table>\n",
              "</div>\n",
              "    <div class=\"colab-df-buttons\">\n",
              "\n",
              "  <div class=\"colab-df-container\">\n",
              "    <button class=\"colab-df-convert\" onclick=\"convertToInteractive('df-4f211f31-1c7a-4be2-b40e-45282686ce8a')\"\n",
              "            title=\"Convert this dataframe to an interactive table.\"\n",
              "            style=\"display:none;\">\n",
              "\n",
              "  <svg xmlns=\"http://www.w3.org/2000/svg\" height=\"24px\" viewBox=\"0 -960 960 960\">\n",
              "    <path d=\"M120-120v-720h720v720H120Zm60-500h600v-160H180v160Zm220 220h160v-160H400v160Zm0 220h160v-160H400v160ZM180-400h160v-160H180v160Zm440 0h160v-160H620v160ZM180-180h160v-160H180v160Zm440 0h160v-160H620v160Z\"/>\n",
              "  </svg>\n",
              "    </button>\n",
              "\n",
              "  <style>\n",
              "    .colab-df-container {\n",
              "      display:flex;\n",
              "      gap: 12px;\n",
              "    }\n",
              "\n",
              "    .colab-df-convert {\n",
              "      background-color: #E8F0FE;\n",
              "      border: none;\n",
              "      border-radius: 50%;\n",
              "      cursor: pointer;\n",
              "      display: none;\n",
              "      fill: #1967D2;\n",
              "      height: 32px;\n",
              "      padding: 0 0 0 0;\n",
              "      width: 32px;\n",
              "    }\n",
              "\n",
              "    .colab-df-convert:hover {\n",
              "      background-color: #E2EBFA;\n",
              "      box-shadow: 0px 1px 2px rgba(60, 64, 67, 0.3), 0px 1px 3px 1px rgba(60, 64, 67, 0.15);\n",
              "      fill: #174EA6;\n",
              "    }\n",
              "\n",
              "    .colab-df-buttons div {\n",
              "      margin-bottom: 4px;\n",
              "    }\n",
              "\n",
              "    [theme=dark] .colab-df-convert {\n",
              "      background-color: #3B4455;\n",
              "      fill: #D2E3FC;\n",
              "    }\n",
              "\n",
              "    [theme=dark] .colab-df-convert:hover {\n",
              "      background-color: #434B5C;\n",
              "      box-shadow: 0px 1px 3px 1px rgba(0, 0, 0, 0.15);\n",
              "      filter: drop-shadow(0px 1px 2px rgba(0, 0, 0, 0.3));\n",
              "      fill: #FFFFFF;\n",
              "    }\n",
              "  </style>\n",
              "\n",
              "    <script>\n",
              "      const buttonEl =\n",
              "        document.querySelector('#df-4f211f31-1c7a-4be2-b40e-45282686ce8a button.colab-df-convert');\n",
              "      buttonEl.style.display =\n",
              "        google.colab.kernel.accessAllowed ? 'block' : 'none';\n",
              "\n",
              "      async function convertToInteractive(key) {\n",
              "        const element = document.querySelector('#df-4f211f31-1c7a-4be2-b40e-45282686ce8a');\n",
              "        const dataTable =\n",
              "          await google.colab.kernel.invokeFunction('convertToInteractive',\n",
              "                                                    [key], {});\n",
              "        if (!dataTable) return;\n",
              "\n",
              "        const docLinkHtml = 'Like what you see? Visit the ' +\n",
              "          '<a target=\"_blank\" href=https://colab.research.google.com/notebooks/data_table.ipynb>data table notebook</a>'\n",
              "          + ' to learn more about interactive tables.';\n",
              "        element.innerHTML = '';\n",
              "        dataTable['output_type'] = 'display_data';\n",
              "        await google.colab.output.renderOutput(dataTable, element);\n",
              "        const docLink = document.createElement('div');\n",
              "        docLink.innerHTML = docLinkHtml;\n",
              "        element.appendChild(docLink);\n",
              "      }\n",
              "    </script>\n",
              "  </div>\n",
              "\n",
              "\n",
              "<div id=\"df-e72d90da-177f-4e91-ad6c-ef29438eff7c\">\n",
              "  <button class=\"colab-df-quickchart\" onclick=\"quickchart('df-e72d90da-177f-4e91-ad6c-ef29438eff7c')\"\n",
              "            title=\"Suggest charts\"\n",
              "            style=\"display:none;\">\n",
              "\n",
              "<svg xmlns=\"http://www.w3.org/2000/svg\" height=\"24px\"viewBox=\"0 0 24 24\"\n",
              "     width=\"24px\">\n",
              "    <g>\n",
              "        <path d=\"M19 3H5c-1.1 0-2 .9-2 2v14c0 1.1.9 2 2 2h14c1.1 0 2-.9 2-2V5c0-1.1-.9-2-2-2zM9 17H7v-7h2v7zm4 0h-2V7h2v10zm4 0h-2v-4h2v4z\"/>\n",
              "    </g>\n",
              "</svg>\n",
              "  </button>\n",
              "\n",
              "<style>\n",
              "  .colab-df-quickchart {\n",
              "      --bg-color: #E8F0FE;\n",
              "      --fill-color: #1967D2;\n",
              "      --hover-bg-color: #E2EBFA;\n",
              "      --hover-fill-color: #174EA6;\n",
              "      --disabled-fill-color: #AAA;\n",
              "      --disabled-bg-color: #DDD;\n",
              "  }\n",
              "\n",
              "  [theme=dark] .colab-df-quickchart {\n",
              "      --bg-color: #3B4455;\n",
              "      --fill-color: #D2E3FC;\n",
              "      --hover-bg-color: #434B5C;\n",
              "      --hover-fill-color: #FFFFFF;\n",
              "      --disabled-bg-color: #3B4455;\n",
              "      --disabled-fill-color: #666;\n",
              "  }\n",
              "\n",
              "  .colab-df-quickchart {\n",
              "    background-color: var(--bg-color);\n",
              "    border: none;\n",
              "    border-radius: 50%;\n",
              "    cursor: pointer;\n",
              "    display: none;\n",
              "    fill: var(--fill-color);\n",
              "    height: 32px;\n",
              "    padding: 0;\n",
              "    width: 32px;\n",
              "  }\n",
              "\n",
              "  .colab-df-quickchart:hover {\n",
              "    background-color: var(--hover-bg-color);\n",
              "    box-shadow: 0 1px 2px rgba(60, 64, 67, 0.3), 0 1px 3px 1px rgba(60, 64, 67, 0.15);\n",
              "    fill: var(--button-hover-fill-color);\n",
              "  }\n",
              "\n",
              "  .colab-df-quickchart-complete:disabled,\n",
              "  .colab-df-quickchart-complete:disabled:hover {\n",
              "    background-color: var(--disabled-bg-color);\n",
              "    fill: var(--disabled-fill-color);\n",
              "    box-shadow: none;\n",
              "  }\n",
              "\n",
              "  .colab-df-spinner {\n",
              "    border: 2px solid var(--fill-color);\n",
              "    border-color: transparent;\n",
              "    border-bottom-color: var(--fill-color);\n",
              "    animation:\n",
              "      spin 1s steps(1) infinite;\n",
              "  }\n",
              "\n",
              "  @keyframes spin {\n",
              "    0% {\n",
              "      border-color: transparent;\n",
              "      border-bottom-color: var(--fill-color);\n",
              "      border-left-color: var(--fill-color);\n",
              "    }\n",
              "    20% {\n",
              "      border-color: transparent;\n",
              "      border-left-color: var(--fill-color);\n",
              "      border-top-color: var(--fill-color);\n",
              "    }\n",
              "    30% {\n",
              "      border-color: transparent;\n",
              "      border-left-color: var(--fill-color);\n",
              "      border-top-color: var(--fill-color);\n",
              "      border-right-color: var(--fill-color);\n",
              "    }\n",
              "    40% {\n",
              "      border-color: transparent;\n",
              "      border-right-color: var(--fill-color);\n",
              "      border-top-color: var(--fill-color);\n",
              "    }\n",
              "    60% {\n",
              "      border-color: transparent;\n",
              "      border-right-color: var(--fill-color);\n",
              "    }\n",
              "    80% {\n",
              "      border-color: transparent;\n",
              "      border-right-color: var(--fill-color);\n",
              "      border-bottom-color: var(--fill-color);\n",
              "    }\n",
              "    90% {\n",
              "      border-color: transparent;\n",
              "      border-bottom-color: var(--fill-color);\n",
              "    }\n",
              "  }\n",
              "</style>\n",
              "\n",
              "  <script>\n",
              "    async function quickchart(key) {\n",
              "      const quickchartButtonEl =\n",
              "        document.querySelector('#' + key + ' button');\n",
              "      quickchartButtonEl.disabled = true;  // To prevent multiple clicks.\n",
              "      quickchartButtonEl.classList.add('colab-df-spinner');\n",
              "      try {\n",
              "        const charts = await google.colab.kernel.invokeFunction(\n",
              "            'suggestCharts', [key], {});\n",
              "      } catch (error) {\n",
              "        console.error('Error during call to suggestCharts:', error);\n",
              "      }\n",
              "      quickchartButtonEl.classList.remove('colab-df-spinner');\n",
              "      quickchartButtonEl.classList.add('colab-df-quickchart-complete');\n",
              "    }\n",
              "    (() => {\n",
              "      let quickchartButtonEl =\n",
              "        document.querySelector('#df-e72d90da-177f-4e91-ad6c-ef29438eff7c button');\n",
              "      quickchartButtonEl.style.display =\n",
              "        google.colab.kernel.accessAllowed ? 'block' : 'none';\n",
              "    })();\n",
              "  </script>\n",
              "</div>\n",
              "\n",
              "    </div>\n",
              "  </div>\n"
            ]
          },
          "metadata": {},
          "execution_count": 24
        }
      ]
    },
    {
      "cell_type": "code",
      "source": [
        "df_treino.head()"
      ],
      "metadata": {
        "colab": {
          "base_uri": "https://localhost:8080/",
          "height": 226
        },
        "id": "N-w2PxJ6uEeP",
        "outputId": "cce97fc2-91be-405d-eb04-f853d4b2028a"
      },
      "execution_count": 25,
      "outputs": [
        {
          "output_type": "execute_result",
          "data": {
            "text/plain": [
              "   receita_total_ops  custo_func  depreciacao  outras_despesas  \\\n",
              "0             205.35        6.22        26.89            56.44   \n",
              "1             328.65        8.71        29.15            59.46   \n",
              "2             253.73        8.61        31.16            45.64   \n",
              "3             296.00        8.73        32.18            64.05   \n",
              "4             300.89        8.91        34.75            87.28   \n",
              "\n",
              "   outras_receitas  juros  lucro_ou_prejuizo_liquido_do_periodo  \n",
              "0             4.65  30.67                                 52.44  \n",
              "1            20.91  31.95                                 91.10  \n",
              "2            20.04  39.60                                 96.80  \n",
              "3             7.78  55.18                                112.28  \n",
              "4             2.39  49.51                                100.81  "
            ],
            "text/html": [
              "\n",
              "  <div id=\"df-d0e22913-c868-4932-8e6a-4fe906b08f48\" class=\"colab-df-container\">\n",
              "    <div>\n",
              "<style scoped>\n",
              "    .dataframe tbody tr th:only-of-type {\n",
              "        vertical-align: middle;\n",
              "    }\n",
              "\n",
              "    .dataframe tbody tr th {\n",
              "        vertical-align: top;\n",
              "    }\n",
              "\n",
              "    .dataframe thead th {\n",
              "        text-align: right;\n",
              "    }\n",
              "</style>\n",
              "<table border=\"1\" class=\"dataframe\">\n",
              "  <thead>\n",
              "    <tr style=\"text-align: right;\">\n",
              "      <th></th>\n",
              "      <th>receita_total_ops</th>\n",
              "      <th>custo_func</th>\n",
              "      <th>depreciacao</th>\n",
              "      <th>outras_despesas</th>\n",
              "      <th>outras_receitas</th>\n",
              "      <th>juros</th>\n",
              "      <th>lucro_ou_prejuizo_liquido_do_periodo</th>\n",
              "    </tr>\n",
              "  </thead>\n",
              "  <tbody>\n",
              "    <tr>\n",
              "      <th>0</th>\n",
              "      <td>205.35</td>\n",
              "      <td>6.22</td>\n",
              "      <td>26.89</td>\n",
              "      <td>56.44</td>\n",
              "      <td>4.65</td>\n",
              "      <td>30.67</td>\n",
              "      <td>52.44</td>\n",
              "    </tr>\n",
              "    <tr>\n",
              "      <th>1</th>\n",
              "      <td>328.65</td>\n",
              "      <td>8.71</td>\n",
              "      <td>29.15</td>\n",
              "      <td>59.46</td>\n",
              "      <td>20.91</td>\n",
              "      <td>31.95</td>\n",
              "      <td>91.10</td>\n",
              "    </tr>\n",
              "    <tr>\n",
              "      <th>2</th>\n",
              "      <td>253.73</td>\n",
              "      <td>8.61</td>\n",
              "      <td>31.16</td>\n",
              "      <td>45.64</td>\n",
              "      <td>20.04</td>\n",
              "      <td>39.60</td>\n",
              "      <td>96.80</td>\n",
              "    </tr>\n",
              "    <tr>\n",
              "      <th>3</th>\n",
              "      <td>296.00</td>\n",
              "      <td>8.73</td>\n",
              "      <td>32.18</td>\n",
              "      <td>64.05</td>\n",
              "      <td>7.78</td>\n",
              "      <td>55.18</td>\n",
              "      <td>112.28</td>\n",
              "    </tr>\n",
              "    <tr>\n",
              "      <th>4</th>\n",
              "      <td>300.89</td>\n",
              "      <td>8.91</td>\n",
              "      <td>34.75</td>\n",
              "      <td>87.28</td>\n",
              "      <td>2.39</td>\n",
              "      <td>49.51</td>\n",
              "      <td>100.81</td>\n",
              "    </tr>\n",
              "  </tbody>\n",
              "</table>\n",
              "</div>\n",
              "    <div class=\"colab-df-buttons\">\n",
              "\n",
              "  <div class=\"colab-df-container\">\n",
              "    <button class=\"colab-df-convert\" onclick=\"convertToInteractive('df-d0e22913-c868-4932-8e6a-4fe906b08f48')\"\n",
              "            title=\"Convert this dataframe to an interactive table.\"\n",
              "            style=\"display:none;\">\n",
              "\n",
              "  <svg xmlns=\"http://www.w3.org/2000/svg\" height=\"24px\" viewBox=\"0 -960 960 960\">\n",
              "    <path d=\"M120-120v-720h720v720H120Zm60-500h600v-160H180v160Zm220 220h160v-160H400v160Zm0 220h160v-160H400v160ZM180-400h160v-160H180v160Zm440 0h160v-160H620v160ZM180-180h160v-160H180v160Zm440 0h160v-160H620v160Z\"/>\n",
              "  </svg>\n",
              "    </button>\n",
              "\n",
              "  <style>\n",
              "    .colab-df-container {\n",
              "      display:flex;\n",
              "      gap: 12px;\n",
              "    }\n",
              "\n",
              "    .colab-df-convert {\n",
              "      background-color: #E8F0FE;\n",
              "      border: none;\n",
              "      border-radius: 50%;\n",
              "      cursor: pointer;\n",
              "      display: none;\n",
              "      fill: #1967D2;\n",
              "      height: 32px;\n",
              "      padding: 0 0 0 0;\n",
              "      width: 32px;\n",
              "    }\n",
              "\n",
              "    .colab-df-convert:hover {\n",
              "      background-color: #E2EBFA;\n",
              "      box-shadow: 0px 1px 2px rgba(60, 64, 67, 0.3), 0px 1px 3px 1px rgba(60, 64, 67, 0.15);\n",
              "      fill: #174EA6;\n",
              "    }\n",
              "\n",
              "    .colab-df-buttons div {\n",
              "      margin-bottom: 4px;\n",
              "    }\n",
              "\n",
              "    [theme=dark] .colab-df-convert {\n",
              "      background-color: #3B4455;\n",
              "      fill: #D2E3FC;\n",
              "    }\n",
              "\n",
              "    [theme=dark] .colab-df-convert:hover {\n",
              "      background-color: #434B5C;\n",
              "      box-shadow: 0px 1px 3px 1px rgba(0, 0, 0, 0.15);\n",
              "      filter: drop-shadow(0px 1px 2px rgba(0, 0, 0, 0.3));\n",
              "      fill: #FFFFFF;\n",
              "    }\n",
              "  </style>\n",
              "\n",
              "    <script>\n",
              "      const buttonEl =\n",
              "        document.querySelector('#df-d0e22913-c868-4932-8e6a-4fe906b08f48 button.colab-df-convert');\n",
              "      buttonEl.style.display =\n",
              "        google.colab.kernel.accessAllowed ? 'block' : 'none';\n",
              "\n",
              "      async function convertToInteractive(key) {\n",
              "        const element = document.querySelector('#df-d0e22913-c868-4932-8e6a-4fe906b08f48');\n",
              "        const dataTable =\n",
              "          await google.colab.kernel.invokeFunction('convertToInteractive',\n",
              "                                                    [key], {});\n",
              "        if (!dataTable) return;\n",
              "\n",
              "        const docLinkHtml = 'Like what you see? Visit the ' +\n",
              "          '<a target=\"_blank\" href=https://colab.research.google.com/notebooks/data_table.ipynb>data table notebook</a>'\n",
              "          + ' to learn more about interactive tables.';\n",
              "        element.innerHTML = '';\n",
              "        dataTable['output_type'] = 'display_data';\n",
              "        await google.colab.output.renderOutput(dataTable, element);\n",
              "        const docLink = document.createElement('div');\n",
              "        docLink.innerHTML = docLinkHtml;\n",
              "        element.appendChild(docLink);\n",
              "      }\n",
              "    </script>\n",
              "  </div>\n",
              "\n",
              "\n",
              "<div id=\"df-8adbf951-9844-404c-a48a-b5b0c9073bc6\">\n",
              "  <button class=\"colab-df-quickchart\" onclick=\"quickchart('df-8adbf951-9844-404c-a48a-b5b0c9073bc6')\"\n",
              "            title=\"Suggest charts\"\n",
              "            style=\"display:none;\">\n",
              "\n",
              "<svg xmlns=\"http://www.w3.org/2000/svg\" height=\"24px\"viewBox=\"0 0 24 24\"\n",
              "     width=\"24px\">\n",
              "    <g>\n",
              "        <path d=\"M19 3H5c-1.1 0-2 .9-2 2v14c0 1.1.9 2 2 2h14c1.1 0 2-.9 2-2V5c0-1.1-.9-2-2-2zM9 17H7v-7h2v7zm4 0h-2V7h2v10zm4 0h-2v-4h2v4z\"/>\n",
              "    </g>\n",
              "</svg>\n",
              "  </button>\n",
              "\n",
              "<style>\n",
              "  .colab-df-quickchart {\n",
              "      --bg-color: #E8F0FE;\n",
              "      --fill-color: #1967D2;\n",
              "      --hover-bg-color: #E2EBFA;\n",
              "      --hover-fill-color: #174EA6;\n",
              "      --disabled-fill-color: #AAA;\n",
              "      --disabled-bg-color: #DDD;\n",
              "  }\n",
              "\n",
              "  [theme=dark] .colab-df-quickchart {\n",
              "      --bg-color: #3B4455;\n",
              "      --fill-color: #D2E3FC;\n",
              "      --hover-bg-color: #434B5C;\n",
              "      --hover-fill-color: #FFFFFF;\n",
              "      --disabled-bg-color: #3B4455;\n",
              "      --disabled-fill-color: #666;\n",
              "  }\n",
              "\n",
              "  .colab-df-quickchart {\n",
              "    background-color: var(--bg-color);\n",
              "    border: none;\n",
              "    border-radius: 50%;\n",
              "    cursor: pointer;\n",
              "    display: none;\n",
              "    fill: var(--fill-color);\n",
              "    height: 32px;\n",
              "    padding: 0;\n",
              "    width: 32px;\n",
              "  }\n",
              "\n",
              "  .colab-df-quickchart:hover {\n",
              "    background-color: var(--hover-bg-color);\n",
              "    box-shadow: 0 1px 2px rgba(60, 64, 67, 0.3), 0 1px 3px 1px rgba(60, 64, 67, 0.15);\n",
              "    fill: var(--button-hover-fill-color);\n",
              "  }\n",
              "\n",
              "  .colab-df-quickchart-complete:disabled,\n",
              "  .colab-df-quickchart-complete:disabled:hover {\n",
              "    background-color: var(--disabled-bg-color);\n",
              "    fill: var(--disabled-fill-color);\n",
              "    box-shadow: none;\n",
              "  }\n",
              "\n",
              "  .colab-df-spinner {\n",
              "    border: 2px solid var(--fill-color);\n",
              "    border-color: transparent;\n",
              "    border-bottom-color: var(--fill-color);\n",
              "    animation:\n",
              "      spin 1s steps(1) infinite;\n",
              "  }\n",
              "\n",
              "  @keyframes spin {\n",
              "    0% {\n",
              "      border-color: transparent;\n",
              "      border-bottom-color: var(--fill-color);\n",
              "      border-left-color: var(--fill-color);\n",
              "    }\n",
              "    20% {\n",
              "      border-color: transparent;\n",
              "      border-left-color: var(--fill-color);\n",
              "      border-top-color: var(--fill-color);\n",
              "    }\n",
              "    30% {\n",
              "      border-color: transparent;\n",
              "      border-left-color: var(--fill-color);\n",
              "      border-top-color: var(--fill-color);\n",
              "      border-right-color: var(--fill-color);\n",
              "    }\n",
              "    40% {\n",
              "      border-color: transparent;\n",
              "      border-right-color: var(--fill-color);\n",
              "      border-top-color: var(--fill-color);\n",
              "    }\n",
              "    60% {\n",
              "      border-color: transparent;\n",
              "      border-right-color: var(--fill-color);\n",
              "    }\n",
              "    80% {\n",
              "      border-color: transparent;\n",
              "      border-right-color: var(--fill-color);\n",
              "      border-bottom-color: var(--fill-color);\n",
              "    }\n",
              "    90% {\n",
              "      border-color: transparent;\n",
              "      border-bottom-color: var(--fill-color);\n",
              "    }\n",
              "  }\n",
              "</style>\n",
              "\n",
              "  <script>\n",
              "    async function quickchart(key) {\n",
              "      const quickchartButtonEl =\n",
              "        document.querySelector('#' + key + ' button');\n",
              "      quickchartButtonEl.disabled = true;  // To prevent multiple clicks.\n",
              "      quickchartButtonEl.classList.add('colab-df-spinner');\n",
              "      try {\n",
              "        const charts = await google.colab.kernel.invokeFunction(\n",
              "            'suggestCharts', [key], {});\n",
              "      } catch (error) {\n",
              "        console.error('Error during call to suggestCharts:', error);\n",
              "      }\n",
              "      quickchartButtonEl.classList.remove('colab-df-spinner');\n",
              "      quickchartButtonEl.classList.add('colab-df-quickchart-complete');\n",
              "    }\n",
              "    (() => {\n",
              "      let quickchartButtonEl =\n",
              "        document.querySelector('#df-8adbf951-9844-404c-a48a-b5b0c9073bc6 button');\n",
              "      quickchartButtonEl.style.display =\n",
              "        google.colab.kernel.accessAllowed ? 'block' : 'none';\n",
              "    })();\n",
              "  </script>\n",
              "</div>\n",
              "\n",
              "    </div>\n",
              "  </div>\n"
            ]
          },
          "metadata": {},
          "execution_count": 25
        }
      ]
    },
    {
      "cell_type": "code",
      "source": [
        "# Visualiza os 5 primeiros registros\n",
        "df_treino.tail()"
      ],
      "metadata": {
        "colab": {
          "base_uri": "https://localhost:8080/",
          "height": 226
        },
        "id": "1S8nUaVEuGPt",
        "outputId": "e4d43ecb-66dc-4572-af20-347289692158"
      },
      "execution_count": 26,
      "outputs": [
        {
          "output_type": "execute_result",
          "data": {
            "text/plain": [
              "    receita_total_ops  custo_func  depreciacao  outras_despesas  \\\n",
              "58            1254.51       77.38       153.64          1564.59   \n",
              "59            1220.58       59.75       154.74          1339.39   \n",
              "60            1378.24       70.64       152.10           909.83   \n",
              "61            1383.82       86.93       152.50           304.13   \n",
              "62            1388.12       92.33       153.50           284.64   \n",
              "\n",
              "    outras_receitas   juros  lucro_ou_prejuizo_liquido_do_periodo  \n",
              "58           597.48  653.34                               -384.50  \n",
              "59           514.67  632.22                               -298.18  \n",
              "60           428.06  650.46                                 11.40  \n",
              "61          1458.58  744.37                                191.85  \n",
              "62          1528.18  784.27                                194.15  "
            ],
            "text/html": [
              "\n",
              "  <div id=\"df-f632fb51-abad-4c40-be1a-3200a711c082\" class=\"colab-df-container\">\n",
              "    <div>\n",
              "<style scoped>\n",
              "    .dataframe tbody tr th:only-of-type {\n",
              "        vertical-align: middle;\n",
              "    }\n",
              "\n",
              "    .dataframe tbody tr th {\n",
              "        vertical-align: top;\n",
              "    }\n",
              "\n",
              "    .dataframe thead th {\n",
              "        text-align: right;\n",
              "    }\n",
              "</style>\n",
              "<table border=\"1\" class=\"dataframe\">\n",
              "  <thead>\n",
              "    <tr style=\"text-align: right;\">\n",
              "      <th></th>\n",
              "      <th>receita_total_ops</th>\n",
              "      <th>custo_func</th>\n",
              "      <th>depreciacao</th>\n",
              "      <th>outras_despesas</th>\n",
              "      <th>outras_receitas</th>\n",
              "      <th>juros</th>\n",
              "      <th>lucro_ou_prejuizo_liquido_do_periodo</th>\n",
              "    </tr>\n",
              "  </thead>\n",
              "  <tbody>\n",
              "    <tr>\n",
              "      <th>58</th>\n",
              "      <td>1254.51</td>\n",
              "      <td>77.38</td>\n",
              "      <td>153.64</td>\n",
              "      <td>1564.59</td>\n",
              "      <td>597.48</td>\n",
              "      <td>653.34</td>\n",
              "      <td>-384.50</td>\n",
              "    </tr>\n",
              "    <tr>\n",
              "      <th>59</th>\n",
              "      <td>1220.58</td>\n",
              "      <td>59.75</td>\n",
              "      <td>154.74</td>\n",
              "      <td>1339.39</td>\n",
              "      <td>514.67</td>\n",
              "      <td>632.22</td>\n",
              "      <td>-298.18</td>\n",
              "    </tr>\n",
              "    <tr>\n",
              "      <th>60</th>\n",
              "      <td>1378.24</td>\n",
              "      <td>70.64</td>\n",
              "      <td>152.10</td>\n",
              "      <td>909.83</td>\n",
              "      <td>428.06</td>\n",
              "      <td>650.46</td>\n",
              "      <td>11.40</td>\n",
              "    </tr>\n",
              "    <tr>\n",
              "      <th>61</th>\n",
              "      <td>1383.82</td>\n",
              "      <td>86.93</td>\n",
              "      <td>152.50</td>\n",
              "      <td>304.13</td>\n",
              "      <td>1458.58</td>\n",
              "      <td>744.37</td>\n",
              "      <td>191.85</td>\n",
              "    </tr>\n",
              "    <tr>\n",
              "      <th>62</th>\n",
              "      <td>1388.12</td>\n",
              "      <td>92.33</td>\n",
              "      <td>153.50</td>\n",
              "      <td>284.64</td>\n",
              "      <td>1528.18</td>\n",
              "      <td>784.27</td>\n",
              "      <td>194.15</td>\n",
              "    </tr>\n",
              "  </tbody>\n",
              "</table>\n",
              "</div>\n",
              "    <div class=\"colab-df-buttons\">\n",
              "\n",
              "  <div class=\"colab-df-container\">\n",
              "    <button class=\"colab-df-convert\" onclick=\"convertToInteractive('df-f632fb51-abad-4c40-be1a-3200a711c082')\"\n",
              "            title=\"Convert this dataframe to an interactive table.\"\n",
              "            style=\"display:none;\">\n",
              "\n",
              "  <svg xmlns=\"http://www.w3.org/2000/svg\" height=\"24px\" viewBox=\"0 -960 960 960\">\n",
              "    <path d=\"M120-120v-720h720v720H120Zm60-500h600v-160H180v160Zm220 220h160v-160H400v160Zm0 220h160v-160H400v160ZM180-400h160v-160H180v160Zm440 0h160v-160H620v160ZM180-180h160v-160H180v160Zm440 0h160v-160H620v160Z\"/>\n",
              "  </svg>\n",
              "    </button>\n",
              "\n",
              "  <style>\n",
              "    .colab-df-container {\n",
              "      display:flex;\n",
              "      gap: 12px;\n",
              "    }\n",
              "\n",
              "    .colab-df-convert {\n",
              "      background-color: #E8F0FE;\n",
              "      border: none;\n",
              "      border-radius: 50%;\n",
              "      cursor: pointer;\n",
              "      display: none;\n",
              "      fill: #1967D2;\n",
              "      height: 32px;\n",
              "      padding: 0 0 0 0;\n",
              "      width: 32px;\n",
              "    }\n",
              "\n",
              "    .colab-df-convert:hover {\n",
              "      background-color: #E2EBFA;\n",
              "      box-shadow: 0px 1px 2px rgba(60, 64, 67, 0.3), 0px 1px 3px 1px rgba(60, 64, 67, 0.15);\n",
              "      fill: #174EA6;\n",
              "    }\n",
              "\n",
              "    .colab-df-buttons div {\n",
              "      margin-bottom: 4px;\n",
              "    }\n",
              "\n",
              "    [theme=dark] .colab-df-convert {\n",
              "      background-color: #3B4455;\n",
              "      fill: #D2E3FC;\n",
              "    }\n",
              "\n",
              "    [theme=dark] .colab-df-convert:hover {\n",
              "      background-color: #434B5C;\n",
              "      box-shadow: 0px 1px 3px 1px rgba(0, 0, 0, 0.15);\n",
              "      filter: drop-shadow(0px 1px 2px rgba(0, 0, 0, 0.3));\n",
              "      fill: #FFFFFF;\n",
              "    }\n",
              "  </style>\n",
              "\n",
              "    <script>\n",
              "      const buttonEl =\n",
              "        document.querySelector('#df-f632fb51-abad-4c40-be1a-3200a711c082 button.colab-df-convert');\n",
              "      buttonEl.style.display =\n",
              "        google.colab.kernel.accessAllowed ? 'block' : 'none';\n",
              "\n",
              "      async function convertToInteractive(key) {\n",
              "        const element = document.querySelector('#df-f632fb51-abad-4c40-be1a-3200a711c082');\n",
              "        const dataTable =\n",
              "          await google.colab.kernel.invokeFunction('convertToInteractive',\n",
              "                                                    [key], {});\n",
              "        if (!dataTable) return;\n",
              "\n",
              "        const docLinkHtml = 'Like what you see? Visit the ' +\n",
              "          '<a target=\"_blank\" href=https://colab.research.google.com/notebooks/data_table.ipynb>data table notebook</a>'\n",
              "          + ' to learn more about interactive tables.';\n",
              "        element.innerHTML = '';\n",
              "        dataTable['output_type'] = 'display_data';\n",
              "        await google.colab.output.renderOutput(dataTable, element);\n",
              "        const docLink = document.createElement('div');\n",
              "        docLink.innerHTML = docLinkHtml;\n",
              "        element.appendChild(docLink);\n",
              "      }\n",
              "    </script>\n",
              "  </div>\n",
              "\n",
              "\n",
              "<div id=\"df-f8c17b77-94fb-41b2-9a14-3839e63a98be\">\n",
              "  <button class=\"colab-df-quickchart\" onclick=\"quickchart('df-f8c17b77-94fb-41b2-9a14-3839e63a98be')\"\n",
              "            title=\"Suggest charts\"\n",
              "            style=\"display:none;\">\n",
              "\n",
              "<svg xmlns=\"http://www.w3.org/2000/svg\" height=\"24px\"viewBox=\"0 0 24 24\"\n",
              "     width=\"24px\">\n",
              "    <g>\n",
              "        <path d=\"M19 3H5c-1.1 0-2 .9-2 2v14c0 1.1.9 2 2 2h14c1.1 0 2-.9 2-2V5c0-1.1-.9-2-2-2zM9 17H7v-7h2v7zm4 0h-2V7h2v10zm4 0h-2v-4h2v4z\"/>\n",
              "    </g>\n",
              "</svg>\n",
              "  </button>\n",
              "\n",
              "<style>\n",
              "  .colab-df-quickchart {\n",
              "      --bg-color: #E8F0FE;\n",
              "      --fill-color: #1967D2;\n",
              "      --hover-bg-color: #E2EBFA;\n",
              "      --hover-fill-color: #174EA6;\n",
              "      --disabled-fill-color: #AAA;\n",
              "      --disabled-bg-color: #DDD;\n",
              "  }\n",
              "\n",
              "  [theme=dark] .colab-df-quickchart {\n",
              "      --bg-color: #3B4455;\n",
              "      --fill-color: #D2E3FC;\n",
              "      --hover-bg-color: #434B5C;\n",
              "      --hover-fill-color: #FFFFFF;\n",
              "      --disabled-bg-color: #3B4455;\n",
              "      --disabled-fill-color: #666;\n",
              "  }\n",
              "\n",
              "  .colab-df-quickchart {\n",
              "    background-color: var(--bg-color);\n",
              "    border: none;\n",
              "    border-radius: 50%;\n",
              "    cursor: pointer;\n",
              "    display: none;\n",
              "    fill: var(--fill-color);\n",
              "    height: 32px;\n",
              "    padding: 0;\n",
              "    width: 32px;\n",
              "  }\n",
              "\n",
              "  .colab-df-quickchart:hover {\n",
              "    background-color: var(--hover-bg-color);\n",
              "    box-shadow: 0 1px 2px rgba(60, 64, 67, 0.3), 0 1px 3px 1px rgba(60, 64, 67, 0.15);\n",
              "    fill: var(--button-hover-fill-color);\n",
              "  }\n",
              "\n",
              "  .colab-df-quickchart-complete:disabled,\n",
              "  .colab-df-quickchart-complete:disabled:hover {\n",
              "    background-color: var(--disabled-bg-color);\n",
              "    fill: var(--disabled-fill-color);\n",
              "    box-shadow: none;\n",
              "  }\n",
              "\n",
              "  .colab-df-spinner {\n",
              "    border: 2px solid var(--fill-color);\n",
              "    border-color: transparent;\n",
              "    border-bottom-color: var(--fill-color);\n",
              "    animation:\n",
              "      spin 1s steps(1) infinite;\n",
              "  }\n",
              "\n",
              "  @keyframes spin {\n",
              "    0% {\n",
              "      border-color: transparent;\n",
              "      border-bottom-color: var(--fill-color);\n",
              "      border-left-color: var(--fill-color);\n",
              "    }\n",
              "    20% {\n",
              "      border-color: transparent;\n",
              "      border-left-color: var(--fill-color);\n",
              "      border-top-color: var(--fill-color);\n",
              "    }\n",
              "    30% {\n",
              "      border-color: transparent;\n",
              "      border-left-color: var(--fill-color);\n",
              "      border-top-color: var(--fill-color);\n",
              "      border-right-color: var(--fill-color);\n",
              "    }\n",
              "    40% {\n",
              "      border-color: transparent;\n",
              "      border-right-color: var(--fill-color);\n",
              "      border-top-color: var(--fill-color);\n",
              "    }\n",
              "    60% {\n",
              "      border-color: transparent;\n",
              "      border-right-color: var(--fill-color);\n",
              "    }\n",
              "    80% {\n",
              "      border-color: transparent;\n",
              "      border-right-color: var(--fill-color);\n",
              "      border-bottom-color: var(--fill-color);\n",
              "    }\n",
              "    90% {\n",
              "      border-color: transparent;\n",
              "      border-bottom-color: var(--fill-color);\n",
              "    }\n",
              "  }\n",
              "</style>\n",
              "\n",
              "  <script>\n",
              "    async function quickchart(key) {\n",
              "      const quickchartButtonEl =\n",
              "        document.querySelector('#' + key + ' button');\n",
              "      quickchartButtonEl.disabled = true;  // To prevent multiple clicks.\n",
              "      quickchartButtonEl.classList.add('colab-df-spinner');\n",
              "      try {\n",
              "        const charts = await google.colab.kernel.invokeFunction(\n",
              "            'suggestCharts', [key], {});\n",
              "      } catch (error) {\n",
              "        console.error('Error during call to suggestCharts:', error);\n",
              "      }\n",
              "      quickchartButtonEl.classList.remove('colab-df-spinner');\n",
              "      quickchartButtonEl.classList.add('colab-df-quickchart-complete');\n",
              "    }\n",
              "    (() => {\n",
              "      let quickchartButtonEl =\n",
              "        document.querySelector('#df-f8c17b77-94fb-41b2-9a14-3839e63a98be button');\n",
              "      quickchartButtonEl.style.display =\n",
              "        google.colab.kernel.accessAllowed ? 'block' : 'none';\n",
              "    })();\n",
              "  </script>\n",
              "</div>\n",
              "\n",
              "    </div>\n",
              "  </div>\n"
            ]
          },
          "metadata": {},
          "execution_count": 26
        }
      ]
    },
    {
      "cell_type": "markdown",
      "source": [
        "##Pre-Processamento da Serie Temporal Multivariada\n"
      ],
      "metadata": {
        "id": "RVG15_eGuR-w"
      }
    },
    {
      "cell_type": "code",
      "source": [
        "#cria o padronizador\n",
        "scaler = StandardScaler()"
      ],
      "metadata": {
        "id": "4VaPk_gkuLkJ"
      },
      "execution_count": 27,
      "outputs": []
    },
    {
      "cell_type": "code",
      "source": [
        "#Treina o padronizador\n",
        "scaler = scaler.fit(df_treino)"
      ],
      "metadata": {
        "id": "la545Ri-ub-e"
      },
      "execution_count": 28,
      "outputs": []
    },
    {
      "cell_type": "code",
      "source": [
        "df_treino_scaled = scaler.transform(df_treino)"
      ],
      "metadata": {
        "id": "QU7AtIslugUW"
      },
      "execution_count": 29,
      "outputs": []
    },
    {
      "cell_type": "code",
      "source": [
        "#cria listas vazias para X e Y\n",
        "x_treino = []\n",
        "y_treino = []"
      ],
      "metadata": {
        "id": "9KRR2wjuuky1"
      },
      "execution_count": 108,
      "outputs": []
    },
    {
      "cell_type": "code",
      "source": [
        "#numero de passos no tempo que queremos olhar para o futuro\n",
        "#a fim de fazer previsões.Estamos trabalhando com uma serie trimestral, logo:\n",
        "# 1 passo = 1 trimestre\n",
        "n_futuro = 1"
      ],
      "metadata": {
        "id": "MDkuREcKuwt0"
      },
      "execution_count": 109,
      "outputs": []
    },
    {
      "cell_type": "code",
      "source": [
        "#numero de passos anteriores que queremos usar para\n",
        "#prever o futuro\n",
        "n_past = 15"
      ],
      "metadata": {
        "id": "6KowNjx-vHzv"
      },
      "execution_count": 110,
      "outputs": []
    },
    {
      "cell_type": "code",
      "source": [
        "#loop pelos dados padronizados para gerar as listas de dados\n",
        "#para X e Y\n",
        "\n",
        "for i in range(n_past, len(df_treino_scaled)-n_futuro + 1):\n",
        "  #carrega X\n",
        "  x_treino.append(df_treino_scaled[i - n_past : i, :])\n",
        "\n",
        "  #carrega y\n",
        "  y_treino.append(df_treino_scaled[i + n_futuro - 1 : i + n_futuro, 0])"
      ],
      "metadata": {
        "id": "nlzHGyZQvSqG"
      },
      "execution_count": 111,
      "outputs": []
    },
    {
      "cell_type": "code",
      "source": [
        "# Converte as listas para array numpy\n",
        "x_treino, y_treino = np.array(x_treino), np.array(y_treino)"
      ],
      "metadata": {
        "id": "XN52fEQRwVf8"
      },
      "execution_count": 112,
      "outputs": []
    },
    {
      "cell_type": "code",
      "source": [
        "# Tamanho do array\n",
        "len(x_treino)"
      ],
      "metadata": {
        "colab": {
          "base_uri": "https://localhost:8080/"
        },
        "id": "eg3t0JnSwcTI",
        "outputId": "2320e41b-e949-4d40-b10f-1796bd3d3296"
      },
      "execution_count": 113,
      "outputs": [
        {
          "output_type": "execute_result",
          "data": {
            "text/plain": [
              "48"
            ]
          },
          "metadata": {},
          "execution_count": 113
        }
      ]
    },
    {
      "cell_type": "code",
      "source": [
        "# Tamanho do array\n",
        "len(y_treino)"
      ],
      "metadata": {
        "colab": {
          "base_uri": "https://localhost:8080/"
        },
        "id": "eCQTcPafweza",
        "outputId": "c8fba366-726c-466f-cc21-388705abfc9c"
      },
      "execution_count": 114,
      "outputs": [
        {
          "output_type": "execute_result",
          "data": {
            "text/plain": [
              "48"
            ]
          },
          "metadata": {},
          "execution_count": 114
        }
      ]
    },
    {
      "cell_type": "code",
      "source": [
        "x_treino.shape"
      ],
      "metadata": {
        "colab": {
          "base_uri": "https://localhost:8080/"
        },
        "id": "PrYJZwkUwjfl",
        "outputId": "27ab690d-b92f-4177-b7f9-847e2ab772a5"
      },
      "execution_count": 115,
      "outputs": [
        {
          "output_type": "execute_result",
          "data": {
            "text/plain": [
              "(48, 15, 7)"
            ]
          },
          "metadata": {},
          "execution_count": 115
        }
      ]
    },
    {
      "cell_type": "code",
      "source": [
        "y_treino.shape"
      ],
      "metadata": {
        "colab": {
          "base_uri": "https://localhost:8080/"
        },
        "id": "WB1NqP7ywl30",
        "outputId": "7d816278-c0f3-46a8-c62c-3e565bfcb2f0"
      },
      "execution_count": 116,
      "outputs": [
        {
          "output_type": "execute_result",
          "data": {
            "text/plain": [
              "(48, 1)"
            ]
          },
          "metadata": {},
          "execution_count": 116
        }
      ]
    },
    {
      "cell_type": "markdown",
      "source": [
        "#CONSTRUÇÃO DO MODELO DE IA"
      ],
      "metadata": {
        "id": "88Oe9gVfwyNA"
      }
    },
    {
      "cell_type": "code",
      "source": [
        "# Cria a sequência de camadas da rede neural artificial\n",
        "modelo_dsa = Sequential()"
      ],
      "metadata": {
        "id": "ZY5AxLkwwuOi"
      },
      "execution_count": 117,
      "outputs": []
    },
    {
      "cell_type": "code",
      "source": [
        "# Adiciona a camada LSTM com 128 neurônios, ativação sigmóide e somente uma sequência LSTM\n",
        "modelo_dsa.add(LSTM(128,\n",
        "                    activation = \"sigmoid\",\n",
        "                    input_shape = (x_treino.shape[1], x_treino.shape[2]),\n",
        "                    return_sequences = False))"
      ],
      "metadata": {
        "id": "0l0n2XIuxCaW"
      },
      "execution_count": 118,
      "outputs": []
    },
    {
      "cell_type": "code",
      "source": [
        "modelo_dsa.add(Dense(y_treino.shape[1]))\n",
        "#adiciona a camada densa de saida"
      ],
      "metadata": {
        "id": "Dnjl9dTSxGgU"
      },
      "execution_count": 119,
      "outputs": []
    },
    {
      "cell_type": "code",
      "source": [
        "#compila o modelo com otimizador ADAM e função de erro mean-squared error.\n",
        "modelo_dsa.compile(optimizer='adam', loss = 'mean_squared_error')"
      ],
      "metadata": {
        "id": "ZybiLrIqKj5U"
      },
      "execution_count": 120,
      "outputs": []
    },
    {
      "cell_type": "code",
      "source": [
        "#sumario do modelo\n",
        "modelo_dsa.summary()"
      ],
      "metadata": {
        "colab": {
          "base_uri": "https://localhost:8080/"
        },
        "id": "t-fZKc4yK5ut",
        "outputId": "99b3c4d8-9ca6-4d47-abf0-f54a30f97239"
      },
      "execution_count": 121,
      "outputs": [
        {
          "output_type": "stream",
          "name": "stdout",
          "text": [
            "Model: \"sequential_4\"\n",
            "_________________________________________________________________\n",
            " Layer (type)                Output Shape              Param #   \n",
            "=================================================================\n",
            " lstm_11 (LSTM)              (None, 128)               69632     \n",
            "                                                                 \n",
            " dense_4 (Dense)             (None, 1)                 129       \n",
            "                                                                 \n",
            "=================================================================\n",
            "Total params: 69761 (272.50 KB)\n",
            "Trainable params: 69761 (272.50 KB)\n",
            "Non-trainable params: 0 (0.00 Byte)\n",
            "_________________________________________________________________\n"
          ]
        }
      ]
    },
    {
      "cell_type": "code",
      "source": [
        "#definimos os hiperparametros\n",
        "batch=16\n",
        "num_epochs=10\n",
        "split=0.1"
      ],
      "metadata": {
        "id": "BYJsaC6VK-XY"
      },
      "execution_count": 122,
      "outputs": []
    },
    {
      "cell_type": "code",
      "source": [
        "#treinamento do modelo\n",
        "history = modelo_dsa.fit(x_treino,\n",
        "                         y_treino,\n",
        "                         epochs = num_epochs,\n",
        "                         batch_size = batch,\n",
        "                         validation_split = split,\n",
        "                         verbose = 2)"
      ],
      "metadata": {
        "colab": {
          "base_uri": "https://localhost:8080/"
        },
        "id": "ZHY1eUCsLMI-",
        "outputId": "2eb3c2d2-5643-4296-9c72-ff1cdb689a89"
      },
      "execution_count": 123,
      "outputs": [
        {
          "output_type": "stream",
          "name": "stdout",
          "text": [
            "Epoch 1/10\n",
            "3/3 - 2s - loss: 0.4954 - val_loss: 0.4936 - 2s/epoch - 665ms/step\n",
            "Epoch 2/10\n",
            "3/3 - 0s - loss: 0.4955 - val_loss: 0.2356 - 66ms/epoch - 22ms/step\n",
            "Epoch 3/10\n",
            "3/3 - 0s - loss: 0.4305 - val_loss: 0.1058 - 65ms/epoch - 22ms/step\n",
            "Epoch 4/10\n",
            "3/3 - 0s - loss: 0.4089 - val_loss: 0.1546 - 66ms/epoch - 22ms/step\n",
            "Epoch 5/10\n",
            "3/3 - 0s - loss: 0.3896 - val_loss: 0.2050 - 70ms/epoch - 23ms/step\n",
            "Epoch 6/10\n",
            "3/3 - 0s - loss: 0.3735 - val_loss: 0.1461 - 76ms/epoch - 25ms/step\n",
            "Epoch 7/10\n",
            "3/3 - 0s - loss: 0.3621 - val_loss: 0.1141 - 85ms/epoch - 28ms/step\n",
            "Epoch 8/10\n",
            "3/3 - 0s - loss: 0.3576 - val_loss: 0.1574 - 63ms/epoch - 21ms/step\n",
            "Epoch 9/10\n",
            "3/3 - 0s - loss: 0.3470 - val_loss: 0.1605 - 69ms/epoch - 23ms/step\n",
            "Epoch 10/10\n",
            "3/3 - 0s - loss: 0.3372 - val_loss: 0.1513 - 62ms/epoch - 21ms/step\n"
          ]
        }
      ]
    },
    {
      "cell_type": "markdown",
      "source": [
        "##AVALIAÇÃO DO MODELO"
      ],
      "metadata": {
        "id": "0PDdnzsPLpeZ"
      }
    },
    {
      "cell_type": "code",
      "source": [
        "#Extrai as previsoes com os dados do treino\n",
        "previsoes_treino = modelo_dsa.predict(x_treino)"
      ],
      "metadata": {
        "colab": {
          "base_uri": "https://localhost:8080/"
        },
        "id": "5-XLhe_yLhLb",
        "outputId": "2b6f48b8-55ac-4d2c-d373-cce934d7e182"
      },
      "execution_count": 124,
      "outputs": [
        {
          "output_type": "stream",
          "name": "stdout",
          "text": [
            "2/2 [==============================] - 0s 13ms/step\n"
          ]
        }
      ]
    },
    {
      "cell_type": "code",
      "source": [
        "previsoes_treino #visualiza as previsões"
      ],
      "metadata": {
        "colab": {
          "base_uri": "https://localhost:8080/"
        },
        "id": "7nWh7Y5xLnp5",
        "outputId": "cb05fdac-9994-4327-9b0a-472cf2ffdf1a"
      },
      "execution_count": 126,
      "outputs": [
        {
          "output_type": "execute_result",
          "data": {
            "text/plain": [
              "array([[-0.3340669 ],\n",
              "       [-0.28248888],\n",
              "       [-0.2318157 ],\n",
              "       [-0.22341633],\n",
              "       [-0.12235834],\n",
              "       [-0.08493134],\n",
              "       [-0.038335  ],\n",
              "       [ 0.01645005],\n",
              "       [ 0.25262207],\n",
              "       [ 0.15177527],\n",
              "       [ 0.16816458],\n",
              "       [ 0.13468817],\n",
              "       [ 0.15487644],\n",
              "       [ 0.28408912],\n",
              "       [ 0.3401482 ],\n",
              "       [ 0.29570362],\n",
              "       [ 0.36936212],\n",
              "       [ 0.7023376 ],\n",
              "       [ 0.49641773],\n",
              "       [ 0.4504783 ],\n",
              "       [ 0.48783004],\n",
              "       [ 0.6829791 ],\n",
              "       [ 0.66350585],\n",
              "       [ 0.75219065],\n",
              "       [ 0.74887323],\n",
              "       [ 0.7245955 ],\n",
              "       [ 0.684352  ],\n",
              "       [ 0.7697781 ],\n",
              "       [ 0.5011728 ],\n",
              "       [ 0.64940494],\n",
              "       [ 0.8754884 ],\n",
              "       [ 0.9267459 ],\n",
              "       [ 0.7367606 ],\n",
              "       [ 0.62980324],\n",
              "       [ 0.6749405 ],\n",
              "       [ 0.6277759 ],\n",
              "       [ 0.6191345 ],\n",
              "       [ 0.8731021 ],\n",
              "       [ 0.8957172 ],\n",
              "       [ 0.7316437 ],\n",
              "       [ 0.62333864],\n",
              "       [ 0.7491415 ],\n",
              "       [ 0.79137945],\n",
              "       [ 0.34259856],\n",
              "       [ 0.3717133 ],\n",
              "       [ 0.348954  ],\n",
              "       [ 0.56528354],\n",
              "       [ 0.97077084]], dtype=float32)"
            ]
          },
          "metadata": {},
          "execution_count": 126
        }
      ]
    },
    {
      "cell_type": "markdown",
      "source": [
        "##FORECAST MANUAL"
      ],
      "metadata": {
        "id": "7tjDwdhYN4E3"
      }
    },
    {
      "cell_type": "code",
      "source": [
        "num_passos_prever = 1\n",
        "#numero de passos para preverr (1 passo = 1 trimestre)"
      ],
      "metadata": {
        "id": "U6ipgeJcNx00"
      },
      "execution_count": 127,
      "outputs": []
    },
    {
      "cell_type": "code",
      "source": [
        "#obtem a ultima sequencia de dados\n",
        "last_sequence = df_treino_scaled[-n_past:]"
      ],
      "metadata": {
        "id": "MCPwz4eEOAJH"
      },
      "execution_count": 128,
      "outputs": []
    },
    {
      "cell_type": "code",
      "source": [
        "df_treino_scaled[-n_past:]\n",
        "#os ultimos 15 trimestres"
      ],
      "metadata": {
        "colab": {
          "base_uri": "https://localhost:8080/"
        },
        "id": "HT_afpiOOJYJ",
        "outputId": "0057f43a-7809-43c8-a388-0abef1ad880b"
      },
      "execution_count": 130,
      "outputs": [
        {
          "output_type": "execute_result",
          "data": {
            "text/plain": [
              "array([[ 0.51806968,  0.61570094,  0.73706718,  0.30613841,  0.69866005,\n",
              "         0.75337373,  0.23080801],\n",
              "       [ 0.5234785 ,  0.67366976,  1.17935038,  3.2147001 ,  2.59402345,\n",
              "         0.41440622,  0.37028038],\n",
              "       [-0.39136821,  0.850404  ,  1.13621236, -0.2813359 ,  0.75576234,\n",
              "         0.91471108, -0.35038305],\n",
              "       [ 0.27998704,  0.93617902,  1.16963247, -1.49222164,  0.81242036,\n",
              "         1.24220056,  1.02930079],\n",
              "       [ 0.80721727,  0.97011199,  1.17484696, -0.58946294,  0.85418085,\n",
              "         1.45843475,  0.78256015],\n",
              "       [ 0.54057889,  0.7151434 ,  1.11203611, -0.03663262,  0.4589667 ,\n",
              "         1.65975179, -0.22729936],\n",
              "       [ 0.58434547,  0.92722448,  1.18053549,  1.04809726,  0.57995365,\n",
              "         1.11091244, -0.68146131],\n",
              "       [ 0.29902421,  1.15674334,  1.16844736, -0.13785804,  0.98603736,\n",
              "         1.53022622, -0.20821296],\n",
              "       [ 0.27183838,  0.85323175,  1.12175401, -0.0549771 ,  1.34494062,\n",
              "         1.65446415,  0.3132235 ],\n",
              "       [ 0.22287555,  0.79432034,  1.01793834,  1.63262442,  0.71974762,\n",
              "         1.70080619, -3.34846565],\n",
              "       [ 0.68753823,  1.74585747,  1.12080593,  3.68967165,  0.81185763,\n",
              "         1.62669332, -2.6133694 ],\n",
              "       [ 0.60739791,  0.91497091,  1.14687836,  3.0124297 ,  0.56659621,\n",
              "         1.53590075, -2.32228491],\n",
              "       [ 0.97977994,  1.42820713,  1.08430453,  1.72061776,  0.3100802 ,\n",
              "         1.61431252, -1.2783329 ],\n",
              "       [ 0.99295952,  2.19594065,  1.09378541, -0.10089843,  3.3622091 ,\n",
              "         2.01802132, -0.66982737],\n",
              "       [ 1.00311582,  2.45043795,  1.11748762, -0.15951054,  3.56834597,\n",
              "         2.18954705, -0.66207142]])"
            ]
          },
          "metadata": {},
          "execution_count": 130
        }
      ]
    },
    {
      "cell_type": "code",
      "source": [
        "last_sequence.shape\n",
        "#array de 15 elementos com 7 colunas em cada elemento"
      ],
      "metadata": {
        "colab": {
          "base_uri": "https://localhost:8080/"
        },
        "id": "xeNVuoXtON0m",
        "outputId": "5ebd32ad-99dc-4031-b8a7-d167956217f9"
      },
      "execution_count": 132,
      "outputs": [
        {
          "output_type": "execute_result",
          "data": {
            "text/plain": [
              "(15, 7)"
            ]
          },
          "metadata": {},
          "execution_count": 132
        }
      ]
    },
    {
      "cell_type": "code",
      "source": [
        "#ajusta o shape para obter os dados de 1 indicador\n",
        "last_sequence = np.reshape(last_sequence, (1,n_past,len(cols)))"
      ],
      "metadata": {
        "id": "e_5ls1AVOeUO"
      },
      "execution_count": 133,
      "outputs": []
    },
    {
      "cell_type": "code",
      "source": [
        "last_sequence.shape"
      ],
      "metadata": {
        "colab": {
          "base_uri": "https://localhost:8080/"
        },
        "id": "XDflL-hLO4h0",
        "outputId": "b9d520d2-f9d6-4c09-c7c7-e6fa2e56158a"
      },
      "execution_count": 134,
      "outputs": [
        {
          "output_type": "execute_result",
          "data": {
            "text/plain": [
              "(1, 15, 7)"
            ]
          },
          "metadata": {},
          "execution_count": 134
        }
      ]
    },
    {
      "cell_type": "code",
      "source": [
        "last_sequence"
      ],
      "metadata": {
        "colab": {
          "base_uri": "https://localhost:8080/"
        },
        "id": "c-4i63JIO6_K",
        "outputId": "79051f33-8131-4ae5-b6a2-42ef0cf740d8"
      },
      "execution_count": 135,
      "outputs": [
        {
          "output_type": "execute_result",
          "data": {
            "text/plain": [
              "array([[[ 0.51806968,  0.61570094,  0.73706718,  0.30613841,\n",
              "          0.69866005,  0.75337373,  0.23080801],\n",
              "        [ 0.5234785 ,  0.67366976,  1.17935038,  3.2147001 ,\n",
              "          2.59402345,  0.41440622,  0.37028038],\n",
              "        [-0.39136821,  0.850404  ,  1.13621236, -0.2813359 ,\n",
              "          0.75576234,  0.91471108, -0.35038305],\n",
              "        [ 0.27998704,  0.93617902,  1.16963247, -1.49222164,\n",
              "          0.81242036,  1.24220056,  1.02930079],\n",
              "        [ 0.80721727,  0.97011199,  1.17484696, -0.58946294,\n",
              "          0.85418085,  1.45843475,  0.78256015],\n",
              "        [ 0.54057889,  0.7151434 ,  1.11203611, -0.03663262,\n",
              "          0.4589667 ,  1.65975179, -0.22729936],\n",
              "        [ 0.58434547,  0.92722448,  1.18053549,  1.04809726,\n",
              "          0.57995365,  1.11091244, -0.68146131],\n",
              "        [ 0.29902421,  1.15674334,  1.16844736, -0.13785804,\n",
              "          0.98603736,  1.53022622, -0.20821296],\n",
              "        [ 0.27183838,  0.85323175,  1.12175401, -0.0549771 ,\n",
              "          1.34494062,  1.65446415,  0.3132235 ],\n",
              "        [ 0.22287555,  0.79432034,  1.01793834,  1.63262442,\n",
              "          0.71974762,  1.70080619, -3.34846565],\n",
              "        [ 0.68753823,  1.74585747,  1.12080593,  3.68967165,\n",
              "          0.81185763,  1.62669332, -2.6133694 ],\n",
              "        [ 0.60739791,  0.91497091,  1.14687836,  3.0124297 ,\n",
              "          0.56659621,  1.53590075, -2.32228491],\n",
              "        [ 0.97977994,  1.42820713,  1.08430453,  1.72061776,\n",
              "          0.3100802 ,  1.61431252, -1.2783329 ],\n",
              "        [ 0.99295952,  2.19594065,  1.09378541, -0.10089843,\n",
              "          3.3622091 ,  2.01802132, -0.66982737],\n",
              "        [ 1.00311582,  2.45043795,  1.11748762, -0.15951054,\n",
              "          3.56834597,  2.18954705, -0.66207142]]])"
            ]
          },
          "metadata": {},
          "execution_count": 135
        }
      ]
    },
    {
      "cell_type": "code",
      "source": [
        "#faz a previsao de 1 indicador em um passo no tempo\n",
        "previsao = modelo_dsa.predict(last_sequence)"
      ],
      "metadata": {
        "colab": {
          "base_uri": "https://localhost:8080/"
        },
        "id": "FJzx_KxZPAJ_",
        "outputId": "e4c9d61b-2056-4fa2-c616-c43cfe10d1e3"
      },
      "execution_count": 137,
      "outputs": [
        {
          "output_type": "stream",
          "name": "stdout",
          "text": [
            "1/1 [==============================] - 0s 107ms/step\n"
          ]
        }
      ]
    },
    {
      "cell_type": "code",
      "source": [
        "#visualiza a previsao de 1 indicador\n",
        "previsao"
      ],
      "metadata": {
        "colab": {
          "base_uri": "https://localhost:8080/"
        },
        "id": "-5UbSHCWPSvT",
        "outputId": "3edd3c6a-9618-4b8d-8e6a-4be33dda43bb"
      },
      "execution_count": 138,
      "outputs": [
        {
          "output_type": "execute_result",
          "data": {
            "text/plain": [
              "array([[1.069188]], dtype=float32)"
            ]
          },
          "metadata": {},
          "execution_count": 138
        }
      ]
    },
    {
      "cell_type": "markdown",
      "source": [
        "Agora extrai as previsoes para todos os indicadores em 1 passo no tempo(1 trimestre)"
      ],
      "metadata": {
        "id": "xiLswcnWPhEv"
      }
    },
    {
      "cell_type": "code",
      "source": [
        "previsoes_todos_indicadores = np.repeat(previsao, df_treino.shape[1], axis = -1)"
      ],
      "metadata": {
        "id": "0MESnSuvPaFc"
      },
      "execution_count": 139,
      "outputs": []
    },
    {
      "cell_type": "code",
      "source": [
        "#previsao de todos os indicadores em 1 passo no tempo (1 trimestre)\n",
        "previsoes_todos_indicadores"
      ],
      "metadata": {
        "colab": {
          "base_uri": "https://localhost:8080/"
        },
        "id": "BOL_mYILP2o7",
        "outputId": "27b382bd-68a8-4fbc-811c-65b71302306b"
      },
      "execution_count": 140,
      "outputs": [
        {
          "output_type": "execute_result",
          "data": {
            "text/plain": [
              "array([[1.069188, 1.069188, 1.069188, 1.069188, 1.069188, 1.069188,\n",
              "        1.069188]], dtype=float32)"
            ]
          },
          "metadata": {},
          "execution_count": 140
        }
      ]
    },
    {
      "cell_type": "markdown",
      "source": [
        "Agora inverte a transformação feita na padronização dos dados"
      ],
      "metadata": {
        "id": "NL0ZIbEYQAaF"
      }
    },
    {
      "cell_type": "code",
      "source": [
        "y_pred_futuro = scaler.inverse_transform(previsoes_todos_indicadores)[:,:]"
      ],
      "metadata": {
        "id": "6GQjxl-gP9yl"
      },
      "execution_count": 141,
      "outputs": []
    },
    {
      "cell_type": "code",
      "source": [
        "y_pred_futuro"
      ],
      "metadata": {
        "colab": {
          "base_uri": "https://localhost:8080/"
        },
        "id": "04zS0KDiQOPT",
        "outputId": "4957bce8-53e8-45f0-b363-7c4da33702e0"
      },
      "execution_count": 142,
      "outputs": [
        {
          "output_type": "execute_result",
          "data": {
            "text/plain": [
              "array([[1416.0938  ,   63.022224,  151.46223 ,  693.2132  ,  684.365   ,\n",
              "         523.6541  ,  707.5484  ]], dtype=float32)"
            ]
          },
          "metadata": {},
          "execution_count": 142
        }
      ]
    },
    {
      "cell_type": "code",
      "source": [
        "print(f'Valores Previstos dos Indicadores para o proximo passo no tempo:\\n{y_pred_futuro[0]}')"
      ],
      "metadata": {
        "colab": {
          "base_uri": "https://localhost:8080/"
        },
        "id": "eNlBp2JyQSsx",
        "outputId": "bc6a48a2-961c-40a8-8a2e-9da1d8ee9205"
      },
      "execution_count": 145,
      "outputs": [
        {
          "output_type": "stream",
          "name": "stdout",
          "text": [
            "Valores Previstos dos Indicadores para o proximo passo no tempo:\n",
            "[1416.0938     63.022224  151.46223   693.2132    684.365     523.6541\n",
            "  707.5484  ]\n"
          ]
        }
      ]
    },
    {
      "cell_type": "markdown",
      "source": [
        "##AUTOMAÇÃO DO FORECAST PARA JANELA DE 1 ANO DE PREVISÃO"
      ],
      "metadata": {
        "id": "lDfFslDaQwcW"
      }
    },
    {
      "cell_type": "code",
      "source": [
        "# Função com todas as etapas feitas anteriormente para automatizar o processo de forecast\n",
        "def automatiza_forecast(df_para_treinar_modelo):\n",
        "\n",
        "    scaler = StandardScaler()\n",
        "\n",
        "    scaler = scaler.fit(df_para_treinar_modelo)\n",
        "\n",
        "    df_para_treinar_modelo_scaled = scaler.transform(df_para_treinar_modelo)\n",
        "\n",
        "    x_treino = []\n",
        "\n",
        "    y_treino = []\n",
        "\n",
        "    n_futuro = 1\n",
        "\n",
        "    n_past = 15\n",
        "\n",
        "    for i in range(n_past, len(df_para_treinar_modelo_scaled) - n_futuro + 1):\n",
        "        x_treino.append(df_para_treinar_modelo_scaled[i - n_past:i, :])\n",
        "        y_treino.append(df_para_treinar_modelo_scaled[i + n_futuro - 1:i + n_futuro, 0])\n",
        "\n",
        "    x_treino, y_treino = np.array(x_treino), np.array(y_treino)\n",
        "\n",
        "    modelo_dsa = Sequential()\n",
        "\n",
        "    modelo_dsa.add(LSTM(128,\n",
        "                        activation = \"sigmoid\",\n",
        "                        input_shape = (x_treino.shape[1], x_treino.shape[2]),\n",
        "                        return_sequences = False))\n",
        "\n",
        "    modelo_dsa.add(Dense(y_treino.shape[1]))\n",
        "\n",
        "    modelo_dsa.compile(optimizer = 'adam', loss = 'mean_squared_error')\n",
        "\n",
        "    history = modelo_dsa.fit(x_treino, y_treino, epochs = 10, batch_size = 16, validation_split = 0.1, verbose = 0)\n",
        "\n",
        "    n_past = 15\n",
        "\n",
        "    last_sequence = df_para_treinar_modelo_scaled[-n_past:]\n",
        "\n",
        "    last_sequence = np.reshape(last_sequence, (1, n_past, len(cols)))\n",
        "\n",
        "    previsao = modelo_dsa.predict(last_sequence)\n",
        "\n",
        "    previsao_indicadores = np.repeat(previsao, df_para_treinar_modelo.shape[1], axis = -1)\n",
        "\n",
        "    y_pred_futuro = scaler.inverse_transform(previsao_indicadores)[:,0]\n",
        "\n",
        "    return y_pred_futuro[0]"
      ],
      "metadata": {
        "id": "3aoe6cFYQnf8"
      },
      "execution_count": 146,
      "outputs": []
    },
    {
      "cell_type": "code",
      "source": [
        "df = pd.read_csv('dataset.csv')"
      ],
      "metadata": {
        "id": "-PymX7VrRiMt"
      },
      "execution_count": 147,
      "outputs": []
    },
    {
      "cell_type": "code",
      "source": [
        "df = df.sort_values('meses')"
      ],
      "metadata": {
        "id": "_UFketvSRok-"
      },
      "execution_count": 148,
      "outputs": []
    },
    {
      "cell_type": "code",
      "source": [
        "df = df.reset_index(drop=True)"
      ],
      "metadata": {
        "id": "F_DSbTyTRr6V"
      },
      "execution_count": 149,
      "outputs": []
    },
    {
      "cell_type": "code",
      "source": [
        "cols = list(df)[1:8]"
      ],
      "metadata": {
        "id": "ryChjMHWRur-"
      },
      "execution_count": 150,
      "outputs": []
    },
    {
      "cell_type": "code",
      "source": [
        "previsoes_1_ano = {}"
      ],
      "metadata": {
        "id": "KhD5xVzsR7wq"
      },
      "execution_count": 153,
      "outputs": []
    },
    {
      "cell_type": "markdown",
      "source": [
        "#Nesta celula abaixo:\n",
        "\n",
        "* Vamos iterar através de cada coluna e aplicando a função de automação\n",
        "\n",
        "* Selecionar a coluna atual como coluna de destino\n",
        "\n",
        "* fazer o novo dataframe com coluna de destino como primeira coluna\n",
        "\n",
        "* Aplicar a função e extrair a previsão\n",
        "\n",
        "* Salvar e visualizar a previsão"
      ],
      "metadata": {
        "id": "c-5CJiQxS0Ga"
      }
    },
    {
      "cell_type": "code",
      "source": [
        "for column in cols:\n",
        "  target_column = column\n",
        "  df_treino = df[[target_column]+[col for col in cols if col != target_column]].astype(float)\n",
        "  pred = automatiza_forecast(df_treino)\n",
        "  previsoes_1_ano[target_column] = round(pred, 2)"
      ],
      "metadata": {
        "colab": {
          "base_uri": "https://localhost:8080/"
        },
        "id": "Sw57YnfwSEDi",
        "outputId": "580f3aed-4fc7-4905-d913-80f73900d942"
      },
      "execution_count": 154,
      "outputs": [
        {
          "output_type": "stream",
          "name": "stdout",
          "text": [
            "1/1 [==============================] - 0s 252ms/step\n",
            "1/1 [==============================] - 0s 188ms/step\n"
          ]
        },
        {
          "output_type": "stream",
          "name": "stderr",
          "text": [
            "WARNING:tensorflow:5 out of the last 7 calls to <function Model.make_predict_function.<locals>.predict_function at 0x7a54dd56cb80> triggered tf.function retracing. Tracing is expensive and the excessive number of tracings could be due to (1) creating @tf.function repeatedly in a loop, (2) passing tensors with different shapes, (3) passing Python objects instead of tensors. For (1), please define your @tf.function outside of the loop. For (2), @tf.function has reduce_retracing=True option that can avoid unnecessary retracing. For (3), please refer to https://www.tensorflow.org/guide/function#controlling_retracing and https://www.tensorflow.org/api_docs/python/tf/function for  more details.\n"
          ]
        },
        {
          "output_type": "stream",
          "name": "stdout",
          "text": [
            "1/1 [==============================] - 0s 165ms/step\n"
          ]
        },
        {
          "output_type": "stream",
          "name": "stderr",
          "text": [
            "WARNING:tensorflow:6 out of the last 8 calls to <function Model.make_predict_function.<locals>.predict_function at 0x7a54dd56f6d0> triggered tf.function retracing. Tracing is expensive and the excessive number of tracings could be due to (1) creating @tf.function repeatedly in a loop, (2) passing tensors with different shapes, (3) passing Python objects instead of tensors. For (1), please define your @tf.function outside of the loop. For (2), @tf.function has reduce_retracing=True option that can avoid unnecessary retracing. For (3), please refer to https://www.tensorflow.org/guide/function#controlling_retracing and https://www.tensorflow.org/api_docs/python/tf/function for  more details.\n"
          ]
        },
        {
          "output_type": "stream",
          "name": "stdout",
          "text": [
            "1/1 [==============================] - 0s 170ms/step\n",
            "1/1 [==============================] - 0s 169ms/step\n",
            "1/1 [==============================] - 0s 170ms/step\n",
            "1/1 [==============================] - 0s 169ms/step\n"
          ]
        }
      ]
    },
    {
      "cell_type": "code",
      "source": [
        "#Vamos concatenar as previsões com o dataset original\n",
        "df_previsoes_1_ano = pd.DataFrame([previsoes_1_ano])"
      ],
      "metadata": {
        "id": "TnKrXdk6Sojq"
      },
      "execution_count": 156,
      "outputs": []
    },
    {
      "cell_type": "code",
      "source": [
        "df_previsoes_1_ano['meses'] = '2023-09'\n",
        "#cria uma nova coluna"
      ],
      "metadata": {
        "id": "W6mLdV9PThn1"
      },
      "execution_count": 157,
      "outputs": []
    },
    {
      "cell_type": "code",
      "source": [
        "df_combinado = pd.concat([df, df_previsoes_1_ano], ignore_index = True)\n",
        "#junta o df original com o das previsoes"
      ],
      "metadata": {
        "id": "ekCbWPHQTsvN"
      },
      "execution_count": 158,
      "outputs": []
    },
    {
      "cell_type": "code",
      "source": [
        "df_combinado = df_combinado.reset_index(drop=True)\n",
        "#faz o reset do indice"
      ],
      "metadata": {
        "id": "P3P6MK9ST4G-"
      },
      "execution_count": 161,
      "outputs": []
    },
    {
      "cell_type": "code",
      "source": [
        "#salva o arquivo em disco\n",
        "df_combinado.to_csv('previsao_1_ano.csv', index=False)"
      ],
      "metadata": {
        "id": "60AGairAT9sA"
      },
      "execution_count": 162,
      "outputs": []
    },
    {
      "cell_type": "markdown",
      "source": [
        "#VISUALIZANDO O FORECAST DE CADA INDICADOR\n"
      ],
      "metadata": {
        "id": "3oJjN2zUU5Ig"
      }
    },
    {
      "cell_type": "code",
      "source": [
        "df = pd.read_csv('previsao_1_ano.csv')"
      ],
      "metadata": {
        "id": "QjSt7gQRU2k5"
      },
      "execution_count": 163,
      "outputs": []
    },
    {
      "cell_type": "code",
      "source": [
        "df.tail()"
      ],
      "metadata": {
        "colab": {
          "base_uri": "https://localhost:8080/",
          "height": 313
        },
        "id": "bQ_mkAv2VCyF",
        "outputId": "88602dfe-bc74-4d74-8b5f-9f59c8a09c70"
      },
      "execution_count": 164,
      "outputs": [
        {
          "output_type": "execute_result",
          "data": {
            "text/plain": [
              "      meses  receita_total_ops  custo_func  depreciacao  outras_despesas  \\\n",
              "59  2022-09        1220.580000       59.75   154.740000      1339.390000   \n",
              "60  2022-12        1378.240000       70.64   152.100000       909.830000   \n",
              "61  2023-03        1383.820000       86.93   152.500000       304.130000   \n",
              "62  2023-06        1388.120000       92.33   153.500000       284.640000   \n",
              "63  2023-09        1344.609985       69.68   159.279999       558.109985   \n",
              "\n",
              "    outras_receitas       juros  lucro_ou_prejuizo_liquido_do_periodo  \n",
              "59       514.670000  632.220000                           -298.180000  \n",
              "60       428.060000  650.460000                             11.400000  \n",
              "61      1458.580000  744.370000                            191.850000  \n",
              "62      1528.180000  784.270000                            194.150000  \n",
              "63       738.210022  589.159973                            402.450012  "
            ],
            "text/html": [
              "\n",
              "  <div id=\"df-ec54268a-f188-4af3-9674-081e84105c04\" class=\"colab-df-container\">\n",
              "    <div>\n",
              "<style scoped>\n",
              "    .dataframe tbody tr th:only-of-type {\n",
              "        vertical-align: middle;\n",
              "    }\n",
              "\n",
              "    .dataframe tbody tr th {\n",
              "        vertical-align: top;\n",
              "    }\n",
              "\n",
              "    .dataframe thead th {\n",
              "        text-align: right;\n",
              "    }\n",
              "</style>\n",
              "<table border=\"1\" class=\"dataframe\">\n",
              "  <thead>\n",
              "    <tr style=\"text-align: right;\">\n",
              "      <th></th>\n",
              "      <th>meses</th>\n",
              "      <th>receita_total_ops</th>\n",
              "      <th>custo_func</th>\n",
              "      <th>depreciacao</th>\n",
              "      <th>outras_despesas</th>\n",
              "      <th>outras_receitas</th>\n",
              "      <th>juros</th>\n",
              "      <th>lucro_ou_prejuizo_liquido_do_periodo</th>\n",
              "    </tr>\n",
              "  </thead>\n",
              "  <tbody>\n",
              "    <tr>\n",
              "      <th>59</th>\n",
              "      <td>2022-09</td>\n",
              "      <td>1220.580000</td>\n",
              "      <td>59.75</td>\n",
              "      <td>154.740000</td>\n",
              "      <td>1339.390000</td>\n",
              "      <td>514.670000</td>\n",
              "      <td>632.220000</td>\n",
              "      <td>-298.180000</td>\n",
              "    </tr>\n",
              "    <tr>\n",
              "      <th>60</th>\n",
              "      <td>2022-12</td>\n",
              "      <td>1378.240000</td>\n",
              "      <td>70.64</td>\n",
              "      <td>152.100000</td>\n",
              "      <td>909.830000</td>\n",
              "      <td>428.060000</td>\n",
              "      <td>650.460000</td>\n",
              "      <td>11.400000</td>\n",
              "    </tr>\n",
              "    <tr>\n",
              "      <th>61</th>\n",
              "      <td>2023-03</td>\n",
              "      <td>1383.820000</td>\n",
              "      <td>86.93</td>\n",
              "      <td>152.500000</td>\n",
              "      <td>304.130000</td>\n",
              "      <td>1458.580000</td>\n",
              "      <td>744.370000</td>\n",
              "      <td>191.850000</td>\n",
              "    </tr>\n",
              "    <tr>\n",
              "      <th>62</th>\n",
              "      <td>2023-06</td>\n",
              "      <td>1388.120000</td>\n",
              "      <td>92.33</td>\n",
              "      <td>153.500000</td>\n",
              "      <td>284.640000</td>\n",
              "      <td>1528.180000</td>\n",
              "      <td>784.270000</td>\n",
              "      <td>194.150000</td>\n",
              "    </tr>\n",
              "    <tr>\n",
              "      <th>63</th>\n",
              "      <td>2023-09</td>\n",
              "      <td>1344.609985</td>\n",
              "      <td>69.68</td>\n",
              "      <td>159.279999</td>\n",
              "      <td>558.109985</td>\n",
              "      <td>738.210022</td>\n",
              "      <td>589.159973</td>\n",
              "      <td>402.450012</td>\n",
              "    </tr>\n",
              "  </tbody>\n",
              "</table>\n",
              "</div>\n",
              "    <div class=\"colab-df-buttons\">\n",
              "\n",
              "  <div class=\"colab-df-container\">\n",
              "    <button class=\"colab-df-convert\" onclick=\"convertToInteractive('df-ec54268a-f188-4af3-9674-081e84105c04')\"\n",
              "            title=\"Convert this dataframe to an interactive table.\"\n",
              "            style=\"display:none;\">\n",
              "\n",
              "  <svg xmlns=\"http://www.w3.org/2000/svg\" height=\"24px\" viewBox=\"0 -960 960 960\">\n",
              "    <path d=\"M120-120v-720h720v720H120Zm60-500h600v-160H180v160Zm220 220h160v-160H400v160Zm0 220h160v-160H400v160ZM180-400h160v-160H180v160Zm440 0h160v-160H620v160ZM180-180h160v-160H180v160Zm440 0h160v-160H620v160Z\"/>\n",
              "  </svg>\n",
              "    </button>\n",
              "\n",
              "  <style>\n",
              "    .colab-df-container {\n",
              "      display:flex;\n",
              "      gap: 12px;\n",
              "    }\n",
              "\n",
              "    .colab-df-convert {\n",
              "      background-color: #E8F0FE;\n",
              "      border: none;\n",
              "      border-radius: 50%;\n",
              "      cursor: pointer;\n",
              "      display: none;\n",
              "      fill: #1967D2;\n",
              "      height: 32px;\n",
              "      padding: 0 0 0 0;\n",
              "      width: 32px;\n",
              "    }\n",
              "\n",
              "    .colab-df-convert:hover {\n",
              "      background-color: #E2EBFA;\n",
              "      box-shadow: 0px 1px 2px rgba(60, 64, 67, 0.3), 0px 1px 3px 1px rgba(60, 64, 67, 0.15);\n",
              "      fill: #174EA6;\n",
              "    }\n",
              "\n",
              "    .colab-df-buttons div {\n",
              "      margin-bottom: 4px;\n",
              "    }\n",
              "\n",
              "    [theme=dark] .colab-df-convert {\n",
              "      background-color: #3B4455;\n",
              "      fill: #D2E3FC;\n",
              "    }\n",
              "\n",
              "    [theme=dark] .colab-df-convert:hover {\n",
              "      background-color: #434B5C;\n",
              "      box-shadow: 0px 1px 3px 1px rgba(0, 0, 0, 0.15);\n",
              "      filter: drop-shadow(0px 1px 2px rgba(0, 0, 0, 0.3));\n",
              "      fill: #FFFFFF;\n",
              "    }\n",
              "  </style>\n",
              "\n",
              "    <script>\n",
              "      const buttonEl =\n",
              "        document.querySelector('#df-ec54268a-f188-4af3-9674-081e84105c04 button.colab-df-convert');\n",
              "      buttonEl.style.display =\n",
              "        google.colab.kernel.accessAllowed ? 'block' : 'none';\n",
              "\n",
              "      async function convertToInteractive(key) {\n",
              "        const element = document.querySelector('#df-ec54268a-f188-4af3-9674-081e84105c04');\n",
              "        const dataTable =\n",
              "          await google.colab.kernel.invokeFunction('convertToInteractive',\n",
              "                                                    [key], {});\n",
              "        if (!dataTable) return;\n",
              "\n",
              "        const docLinkHtml = 'Like what you see? Visit the ' +\n",
              "          '<a target=\"_blank\" href=https://colab.research.google.com/notebooks/data_table.ipynb>data table notebook</a>'\n",
              "          + ' to learn more about interactive tables.';\n",
              "        element.innerHTML = '';\n",
              "        dataTable['output_type'] = 'display_data';\n",
              "        await google.colab.output.renderOutput(dataTable, element);\n",
              "        const docLink = document.createElement('div');\n",
              "        docLink.innerHTML = docLinkHtml;\n",
              "        element.appendChild(docLink);\n",
              "      }\n",
              "    </script>\n",
              "  </div>\n",
              "\n",
              "\n",
              "<div id=\"df-94adae86-d13a-4e8b-95da-faef0469ced7\">\n",
              "  <button class=\"colab-df-quickchart\" onclick=\"quickchart('df-94adae86-d13a-4e8b-95da-faef0469ced7')\"\n",
              "            title=\"Suggest charts\"\n",
              "            style=\"display:none;\">\n",
              "\n",
              "<svg xmlns=\"http://www.w3.org/2000/svg\" height=\"24px\"viewBox=\"0 0 24 24\"\n",
              "     width=\"24px\">\n",
              "    <g>\n",
              "        <path d=\"M19 3H5c-1.1 0-2 .9-2 2v14c0 1.1.9 2 2 2h14c1.1 0 2-.9 2-2V5c0-1.1-.9-2-2-2zM9 17H7v-7h2v7zm4 0h-2V7h2v10zm4 0h-2v-4h2v4z\"/>\n",
              "    </g>\n",
              "</svg>\n",
              "  </button>\n",
              "\n",
              "<style>\n",
              "  .colab-df-quickchart {\n",
              "      --bg-color: #E8F0FE;\n",
              "      --fill-color: #1967D2;\n",
              "      --hover-bg-color: #E2EBFA;\n",
              "      --hover-fill-color: #174EA6;\n",
              "      --disabled-fill-color: #AAA;\n",
              "      --disabled-bg-color: #DDD;\n",
              "  }\n",
              "\n",
              "  [theme=dark] .colab-df-quickchart {\n",
              "      --bg-color: #3B4455;\n",
              "      --fill-color: #D2E3FC;\n",
              "      --hover-bg-color: #434B5C;\n",
              "      --hover-fill-color: #FFFFFF;\n",
              "      --disabled-bg-color: #3B4455;\n",
              "      --disabled-fill-color: #666;\n",
              "  }\n",
              "\n",
              "  .colab-df-quickchart {\n",
              "    background-color: var(--bg-color);\n",
              "    border: none;\n",
              "    border-radius: 50%;\n",
              "    cursor: pointer;\n",
              "    display: none;\n",
              "    fill: var(--fill-color);\n",
              "    height: 32px;\n",
              "    padding: 0;\n",
              "    width: 32px;\n",
              "  }\n",
              "\n",
              "  .colab-df-quickchart:hover {\n",
              "    background-color: var(--hover-bg-color);\n",
              "    box-shadow: 0 1px 2px rgba(60, 64, 67, 0.3), 0 1px 3px 1px rgba(60, 64, 67, 0.15);\n",
              "    fill: var(--button-hover-fill-color);\n",
              "  }\n",
              "\n",
              "  .colab-df-quickchart-complete:disabled,\n",
              "  .colab-df-quickchart-complete:disabled:hover {\n",
              "    background-color: var(--disabled-bg-color);\n",
              "    fill: var(--disabled-fill-color);\n",
              "    box-shadow: none;\n",
              "  }\n",
              "\n",
              "  .colab-df-spinner {\n",
              "    border: 2px solid var(--fill-color);\n",
              "    border-color: transparent;\n",
              "    border-bottom-color: var(--fill-color);\n",
              "    animation:\n",
              "      spin 1s steps(1) infinite;\n",
              "  }\n",
              "\n",
              "  @keyframes spin {\n",
              "    0% {\n",
              "      border-color: transparent;\n",
              "      border-bottom-color: var(--fill-color);\n",
              "      border-left-color: var(--fill-color);\n",
              "    }\n",
              "    20% {\n",
              "      border-color: transparent;\n",
              "      border-left-color: var(--fill-color);\n",
              "      border-top-color: var(--fill-color);\n",
              "    }\n",
              "    30% {\n",
              "      border-color: transparent;\n",
              "      border-left-color: var(--fill-color);\n",
              "      border-top-color: var(--fill-color);\n",
              "      border-right-color: var(--fill-color);\n",
              "    }\n",
              "    40% {\n",
              "      border-color: transparent;\n",
              "      border-right-color: var(--fill-color);\n",
              "      border-top-color: var(--fill-color);\n",
              "    }\n",
              "    60% {\n",
              "      border-color: transparent;\n",
              "      border-right-color: var(--fill-color);\n",
              "    }\n",
              "    80% {\n",
              "      border-color: transparent;\n",
              "      border-right-color: var(--fill-color);\n",
              "      border-bottom-color: var(--fill-color);\n",
              "    }\n",
              "    90% {\n",
              "      border-color: transparent;\n",
              "      border-bottom-color: var(--fill-color);\n",
              "    }\n",
              "  }\n",
              "</style>\n",
              "\n",
              "  <script>\n",
              "    async function quickchart(key) {\n",
              "      const quickchartButtonEl =\n",
              "        document.querySelector('#' + key + ' button');\n",
              "      quickchartButtonEl.disabled = true;  // To prevent multiple clicks.\n",
              "      quickchartButtonEl.classList.add('colab-df-spinner');\n",
              "      try {\n",
              "        const charts = await google.colab.kernel.invokeFunction(\n",
              "            'suggestCharts', [key], {});\n",
              "      } catch (error) {\n",
              "        console.error('Error during call to suggestCharts:', error);\n",
              "      }\n",
              "      quickchartButtonEl.classList.remove('colab-df-spinner');\n",
              "      quickchartButtonEl.classList.add('colab-df-quickchart-complete');\n",
              "    }\n",
              "    (() => {\n",
              "      let quickchartButtonEl =\n",
              "        document.querySelector('#df-94adae86-d13a-4e8b-95da-faef0469ced7 button');\n",
              "      quickchartButtonEl.style.display =\n",
              "        google.colab.kernel.accessAllowed ? 'block' : 'none';\n",
              "    })();\n",
              "  </script>\n",
              "</div>\n",
              "\n",
              "    </div>\n",
              "  </div>\n"
            ]
          },
          "metadata": {},
          "execution_count": 164
        }
      ]
    },
    {
      "cell_type": "code",
      "source": [
        "# Define a função que aceita um DataFrame pandas como argumento.\n",
        "def plot_forecast(df):\n",
        "\n",
        "    # Remove a primeira coluna do DataFrame.\n",
        "    df = df.iloc[:, 1:]\n",
        "\n",
        "    # Define o número de colunas na grid de gráficos.\n",
        "    num_cols = 3\n",
        "\n",
        "    # Calcula o número de linhas necessárias na grid.\n",
        "    num_rows = (len(df.columns) - 1) // num_cols + 1\n",
        "\n",
        "    # Define o tamanho total da figura.\n",
        "    figsize = (num_cols * 6, num_rows * 4)\n",
        "\n",
        "    # Cria a figura e os eixos para os subgráficos.\n",
        "    fig, axes = plt.subplots(num_rows, num_cols, figsize = figsize)\n",
        "\n",
        "    # Achata o array 2D de eixos para um array 1D para facilitar a iteração.\n",
        "    axes = axes.flatten()\n",
        "\n",
        "    # Itera através das colunas do DataFrame.\n",
        "    for i, col in enumerate(df.columns):\n",
        "\n",
        "        # Pega o i-ésimo eixo para o i-ésimo gráfico.\n",
        "        ax = axes[i]\n",
        "\n",
        "        # Usa o índice do DataFrame como os valores do eixo X.\n",
        "        x_values = df.index\n",
        "\n",
        "        # Usa os valores da coluna atual como os valores do eixo Y.\n",
        "        y_values = df[col]\n",
        "\n",
        "        # Plota os valores de X e Y.\n",
        "        ax.plot(x_values, y_values)\n",
        "\n",
        "        # Define o título do gráfico para o nome da coluna atual.\n",
        "        ax.set_title(col)\n",
        "\n",
        "        # Define o rótulo do eixo X.\n",
        "        ax.set_xlabel('Trimestres')\n",
        "\n",
        "        # Define o rótulo do eixo Y.\n",
        "        ax.set_ylabel('Valor')\n",
        "\n",
        "        # Ativa a grade no gráfico.\n",
        "        ax.grid(True)\n",
        "\n",
        "        # Gira os rótulos do eixo X em 45 graus.\n",
        "        ax.tick_params(axis = 'x', rotation = 45)\n",
        "\n",
        "        # Remove os rótulos do eixo X.\n",
        "        ax.set_xticklabels([])\n",
        "\n",
        "    # Verifica se há mais eixos do que colunas.\n",
        "    if len(df.columns) < len(axes):\n",
        "\n",
        "        # Itera pelos eixos excedentes.\n",
        "        for j in range(len(df.columns), len(axes)):\n",
        "\n",
        "            # Remove os eixos excedentes.\n",
        "            fig.delaxes(axes[j])\n",
        "\n",
        "    # Ajusta o layout para que os gráficos não se sobreponham.\n",
        "    fig.tight_layout()\n",
        "\n",
        "    # Exibe a figura completa.\n",
        "    plt.show()"
      ],
      "metadata": {
        "id": "GMU69Q7RVD91"
      },
      "execution_count": 165,
      "outputs": []
    },
    {
      "cell_type": "code",
      "source": [
        "#Executa a função\n",
        "plot_forecast(df)"
      ],
      "metadata": {
        "colab": {
          "base_uri": "https://localhost:8080/",
          "height": 445
        },
        "id": "eSrYHKghVW7k",
        "outputId": "438f25b8-342f-488e-d14f-6674607854fb"
      },
      "execution_count": 166,
      "outputs": [
        {
          "output_type": "display_data",
          "data": {
            "text/plain": [
              "<Figure size 1800x1200 with 7 Axes>"
            ],
            "image/png": "[encoded data removed]"
          },
          "metadata": {}
        }
      ]
    },
    {
      "cell_type": "markdown",
      "source": [
        "#FIM"
      ],
      "metadata": {
        "id": "GoL8-bVhWRjt"
      }
    },
    {
      "cell_type": "code",
      "source": [],
      "metadata": {
        "id": "Nm9hiO0WWTLt"
      },
      "execution_count": null,
      "outputs": []
    }
  ]
}
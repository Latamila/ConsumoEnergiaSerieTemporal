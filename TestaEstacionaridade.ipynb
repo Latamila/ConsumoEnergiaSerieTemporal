{
  "nbformat": 4,
  "nbformat_minor": 0,
  "metadata": {
    "colab": {
      "provenance": []
    },
    "kernelspec": {
      "name": "python3",
      "display_name": "Python 3"
    },
    "language_info": {
      "name": "python"
    }
  },
  "cells": [
    {
      "cell_type": "code",
      "execution_count": null,
      "metadata": {
        "id": "HR5e8IJ8a-ZZ"
      },
      "outputs": [],
      "source": [
        "# Função\n",
        "def testa_estacionaridade(serie):\n",
        "\n",
        "    # Calcula estatísticas móveis\n",
        "    rolmean = serie.rolling(window = 12).mean()\n",
        "    rolstd = serie.rolling(window = 12).std()\n",
        "\n",
        "    # Plot das estatísticas móveis\n",
        "    orig = plt.plot(serie, color = 'blue', label = 'Original')\n",
        "    mean = plt.plot(rolmean, color = 'red', label = 'Média Móvel')\n",
        "    std = plt.plot(rolstd, color = 'black', label = 'Desvio Padrão')\n",
        "\n",
        "    # Plot\n",
        "    plt.legend(loc = 'best')\n",
        "    plt.title('Estatísticas Móveis - Média e Desvio Padrão')\n",
        "    plt.show()\n",
        "\n",
        "    # Teste Dickey-Fuller:\n",
        "    # Print\n",
        "    print('\\nResultado do Teste Dickey-Fuller:\\n')\n",
        "\n",
        "    # Teste\n",
        "    dfteste = adfuller(dados_serie.consumo_energia, autolag = 'AIC')\n",
        "\n",
        "    # Formatando a saída\n",
        "    dfsaida = pd.Series(dfteste[0:4], index = ['Estatística do Teste',\n",
        "                                               'Valor-p',\n",
        "                                               'Número de Lags Consideradas',\n",
        "                                               'Número de Observações Usadas'])\n",
        "\n",
        "    # Loop por cada item da saída do teste\n",
        "    for key, value in dfteste[4].items():\n",
        "        dfsaida['Valor Crítico (%s)'%key] = value\n",
        "\n",
        "    # Print\n",
        "    print (dfsaida)\n",
        "\n",
        "    # Testa o valor-p\n",
        "    print ('\\nConclusão:')\n",
        "    if dfsaida[1] > 0.05:\n",
        "        print('\\nO valor-p é maior que 0.05 e, portanto, não temos evidências para rejeitar a hipótese nula.')\n",
        "        print('Essa série provavelmente não é estacionária.')\n",
        "    else:\n",
        "        print('\\nO valor-p é menor que 0.05 e, portanto, temos evidências para rejeitar a hipótese nula.')\n",
        "        print('Essa série provavelmente é estacionária.')"
      ]
    },
    {
      "cell_type": "code",
      "source": [],
      "metadata": {
        "id": "b4rmfRoedir1"
      },
      "execution_count": null,
      "outputs": []
    }
  ]
}